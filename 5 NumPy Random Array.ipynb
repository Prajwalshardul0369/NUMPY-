{
 "cells": [
  {
   "cell_type": "markdown",
   "id": "54704718-fed1-49ec-95a1-4e920496484b",
   "metadata": {},
   "source": [
    "## create Numpy Arrays with Random Numbers"
   ]
  },
  {
   "cell_type": "code",
   "execution_count": 1,
   "id": "d88388a1-1537-4b1c-8395-24cb96554328",
   "metadata": {},
   "outputs": [],
   "source": [
    "import numpy as np"
   ]
  },
  {
   "cell_type": "markdown",
   "id": "2eb82e90-6e45-4a43-964c-40564100d00d",
   "metadata": {},
   "source": [
    "* rand() : the function isd used to generated a * ** random number value between the 0 & 1\n",
    "* randn() : the function is used to generated a ranom number value closed to zero.\n",
    "* This may return postive or negative numbers as well.\n",
    "* ranf() : the function for diong random sampling in numpy. it returns an array of specified shape and filld it with random floats in the half evren interval [0.0,1.0].\n",
    "* randint() : th e function is used to generated a random number given range"
   ]
  },
  {
   "cell_type": "code",
   "execution_count": 2,
   "id": "2fd7be2a-fb52-4768-80df-8da2ff68a7c8",
   "metadata": {},
   "outputs": [
    {
     "name": "stdout",
     "output_type": "stream",
     "text": [
      "0.8258986154621741\n"
     ]
    }
   ],
   "source": [
    "#generated a random scalar\n",
    "print(np.random.rand())"
   ]
  },
  {
   "cell_type": "code",
   "execution_count": 3,
   "id": "38b60e75-5f83-4936-863d-4cf7f45e5862",
   "metadata": {},
   "outputs": [
    {
     "name": "stdout",
     "output_type": "stream",
     "text": [
      "[0.57853631 0.45567188 0.47689121]\n"
     ]
    }
   ],
   "source": [
    "# generate a 1-D array\n",
    "print(np.random.rand(3))"
   ]
  },
  {
   "cell_type": "code",
   "execution_count": 4,
   "id": "7e1e0550-f918-4cee-a510-dbc9c9c082e1",
   "metadata": {},
   "outputs": [
    {
     "name": "stdout",
     "output_type": "stream",
     "text": [
      "[[0.23248024 0.94072523 0.33963067]\n",
      " [0.29592478 0.33559057 0.19036722]\n",
      " [0.55562978 0.81301327 0.64499943]]\n"
     ]
    }
   ],
   "source": [
    "# generate a 2-D array\n",
    "print(np.random.rand(3,3))"
   ]
  },
  {
   "cell_type": "markdown",
   "id": "d1b9161b-9f78-4122-94da-7ae6de99b1e4",
   "metadata": {},
   "source": [
    "### Generate a sample from the standard normal distribution (mean = 0, var = 1)"
   ]
  },
  {
   "cell_type": "code",
   "execution_count": 5,
   "id": "72c740e5-1cac-44e0-900a-90242135b371",
   "metadata": {},
   "outputs": [
    {
     "name": "stdout",
     "output_type": "stream",
     "text": [
      "[[ 0.07866081  0.36097849  1.08663642]\n",
      " [ 0.95923445 -0.4920248   0.73862751]\n",
      " [ 0.85478514  0.77562734  1.57937149]]\n"
     ]
    }
   ],
   "source": [
    "print(np.random.randn(3,3))"
   ]
  },
  {
   "cell_type": "markdown",
   "id": "23406662-cc56-45f5-98d8-e0382310be76",
   "metadata": {},
   "source": [
    "### Generate an array of random integers in a given interval [low, high)"
   ]
  },
  {
   "cell_type": "code",
   "execution_count": 6,
   "id": "567b1724-81bd-43cc-81d8-ccca3809914a",
   "metadata": {},
   "outputs": [
    {
     "name": "stdout",
     "output_type": "stream",
     "text": [
      "[5 8 8]\n"
     ]
    }
   ],
   "source": [
    "# np.ranodm.randint(low, high, size, dtype)\n",
    "print(np.random.randint(1, 10, 3, 'i8'))"
   ]
  },
  {
   "cell_type": "code",
   "execution_count": 7,
   "id": "2df8f228-744b-4ad4-ae9a-f7308e9cc13c",
   "metadata": {},
   "outputs": [
    {
     "name": "stdout",
     "output_type": "stream",
     "text": [
      "[0.80502086 0.95106621 0.07397779 0.98675854 0.56913758]\n"
     ]
    }
   ],
   "source": [
    "arr_randf = np.random.ranf(5)\n",
    "print(arr_randf)"
   ]
  },
  {
   "cell_type": "markdown",
   "id": "3cf1085e-5851-4233-888d-f76e47a6e825",
   "metadata": {},
   "source": [
    "### Generate an array of random floating-point numbers in the interval [0.0, 1.0)"
   ]
  },
  {
   "cell_type": "code",
   "execution_count": 8,
   "id": "7a0d94b5-1c01-4af7-91e1-0b7fce5e0d0e",
   "metadata": {},
   "outputs": [
    {
     "name": "stdout",
     "output_type": "stream",
     "text": [
      "[0.14509753 0.11826173 0.53187049 0.37645718 0.37922647 0.12005331\n",
      " 0.50877858 0.56227667 0.75719515 0.25863937]\n",
      "[0.42062647 0.18226789 0.04540453 0.9198005  0.04576483 0.87325629\n",
      " 0.43033989 0.41158777 0.83262339 0.77468263]\n",
      "[0.1726169  0.5520271  0.14552345 0.8304705  0.81838425 0.31220928\n",
      " 0.63159117 0.75101603 0.11656101 0.34734215]\n",
      "[0.0623138  0.53702183 0.85754305 0.84915227 0.09695401 0.01321052\n",
      " 0.16545589 0.56850772 0.35669128 0.21049508]\n"
     ]
    }
   ],
   "source": [
    "# the following methods are the same as np.random.rand()\n",
    "print(np.random.random_sample(10))\n",
    "print(np.random.random(10))\n",
    "print(np.random.ranf(10))\n",
    "print(np.random.sample(10))"
   ]
  },
  {
   "cell_type": "markdown",
   "id": "13a94f09-359f-4a92-b7c1-479282aff585",
   "metadata": {},
   "source": [
    "### Generate a random sample from a given 1-D array"
   ]
  },
  {
   "cell_type": "code",
   "execution_count": 9,
   "id": "899ed852-051b-431b-a717-aa66c6341943",
   "metadata": {},
   "outputs": [
    {
     "name": "stdout",
     "output_type": "stream",
     "text": [
      "[0 2 1 1 1 1 1 1 1 1]\n"
     ]
    }
   ],
   "source": [
    "# np.random.choice(iterable_or_int, size, replace=True, p=weights)\n",
    "print(np.random.choice(range(3), 10, replace=True, p=[0.1, 0.8, 0.1]))"
   ]
  },
  {
   "cell_type": "code",
   "execution_count": 10,
   "id": "bfd2383c-b073-4fc4-ab86-66389b3d9673",
   "metadata": {},
   "outputs": [
    {
     "name": "stdout",
     "output_type": "stream",
     "text": [
      "[2 0 0 1 1 2 2 1 1 0]\n"
     ]
    }
   ],
   "source": [
    "print(np.random.choice(3, 10))"
   ]
  },
  {
   "cell_type": "code",
   "execution_count": 11,
   "id": "eb5a77a1-5bf2-4fc5-847a-349473a663bb",
   "metadata": {},
   "outputs": [
    {
     "name": "stdout",
     "output_type": "stream",
     "text": [
      "[2 2 2 3 2 2 2 2 3 3]\n"
     ]
    }
   ],
   "source": [
    "print(np.random.choice([1,2,3], 10))"
   ]
  },
  {
   "cell_type": "markdown",
   "id": "b4f75ca1-461b-4110-aa2c-bed79d3df573",
   "metadata": {},
   "source": [
    "### Shuffle an array in place"
   ]
  },
  {
   "cell_type": "code",
   "execution_count": 12,
   "id": "105402a4-0db3-498d-9aa2-7df08496cb77",
   "metadata": {},
   "outputs": [
    {
     "name": "stdout",
     "output_type": "stream",
     "text": [
      "[0 1 2 3 4 5 6 7 8 9]\n"
     ]
    }
   ],
   "source": [
    "arr = np.array(range(10))\n",
    "print(arr)"
   ]
  },
  {
   "cell_type": "code",
   "execution_count": 13,
   "id": "939b62f0-7650-4a37-950e-bd57d51a1039",
   "metadata": {},
   "outputs": [
    {
     "name": "stdout",
     "output_type": "stream",
     "text": [
      "[3 1 8 5 6 7 2 4 0 9]\n"
     ]
    }
   ],
   "source": [
    "np.random.shuffle(arr)\n",
    "print(arr)"
   ]
  },
  {
   "cell_type": "markdown",
   "id": "a96c209b-4b8c-4036-a962-28bbe80e9270",
   "metadata": {},
   "source": [
    "### Generate a permutation of an array"
   ]
  },
  {
   "cell_type": "code",
   "execution_count": 14,
   "id": "32cfd586-c6c0-44d9-95c0-55e3290afa46",
   "metadata": {},
   "outputs": [
    {
     "name": "stdout",
     "output_type": "stream",
     "text": [
      "The initial array:  [0 1 2 3 4 5 6 7 8 9]\n",
      "A permutation of the array:  [6 3 8 1 5 9 7 2 4 0]\n"
     ]
    }
   ],
   "source": [
    "# similar to np.random.shuffle(), but it returns a copy rather than making changes in place\n",
    "arr = np.array(range(10))\n",
    "print('The initial array: ', arr)\n",
    "print('A permutation of the array: ', np.random.permutation(arr))"
   ]
  },
  {
   "cell_type": "code",
   "execution_count": null,
   "id": "4a32c543-5794-4fdb-8a87-1f38717022cd",
   "metadata": {},
   "outputs": [],
   "source": []
  },
  {
   "cell_type": "code",
   "execution_count": null,
   "id": "e2ff5b2a-1c82-4c09-89f1-d5b45ce5bd91",
   "metadata": {},
   "outputs": [],
   "source": []
  },
  {
   "cell_type": "code",
   "execution_count": null,
   "id": "c4bee370-e53c-4220-ac20-27b3db8f259b",
   "metadata": {},
   "outputs": [],
   "source": []
  }
 ],
 "metadata": {
  "kernelspec": {
   "display_name": "Python 3 (ipykernel)",
   "language": "python",
   "name": "python3"
  },
  "language_info": {
   "codemirror_mode": {
    "name": "ipython",
    "version": 3
   },
   "file_extension": ".py",
   "mimetype": "text/x-python",
   "name": "python",
   "nbconvert_exporter": "python",
   "pygments_lexer": "ipython3",
   "version": "3.12.0"
  }
 },
 "nbformat": 4,
 "nbformat_minor": 5
}
