{
 "cells": [
  {
   "cell_type": "markdown",
   "id": "3c27e446-7340-4c41-9dc0-0cd7d6bb33b9",
   "metadata": {},
   "source": [
    "## Slicing and Indexing "
   ]
  },
  {
   "cell_type": "markdown",
   "id": "a1fb6b71-664c-4603-8dc2-04b5d0b700a9",
   "metadata": {},
   "source": [
    "### Subset, Slice, Index and Iterate through Arrays"
   ]
  },
  {
   "cell_type": "markdown",
   "id": "84c5cdf8-5a7c-45aa-8692-b981dbb3e78b",
   "metadata": {},
   "source": [
    "For one-dimensional arrays, indexing, slicing etc. is similar to python lists - indexing starts at 0."
   ]
  },
  {
   "cell_type": "markdown",
   "id": "11ecf05d-610e-49b5-8884-bbc3b418c143",
   "metadata": {},
   "source": [
    "### Slicing arrays"
   ]
  },
  {
   "cell_type": "markdown",
   "id": "af745f4b-2e2f-416a-8284-b86cb1306753",
   "metadata": {},
   "source": [
    "Slicing in python means taking elements from one given index to another given index.\n",
    "\n",
    "1. We pass slice instead of index like this: [start:end].\n",
    "2. We can also define the step, like this: [start:end:step].\n",
    "3. If we don't pass start its considered 0\n",
    "4. If we don't pass end its considered length of array in that dimension\n",
    "5. If we don't pass step its considered 1"
   ]
  },
  {
   "cell_type": "markdown",
   "id": "f75490d8-dc3f-479b-a56d-d48c3cf56e64",
   "metadata": {},
   "source": [
    "### Indexing and Slicing One Dimensional Arrays"
   ]
  },
  {
   "cell_type": "code",
   "execution_count": 25,
   "id": "38a94f4b-b223-4bbc-9d7f-f448b731607a",
   "metadata": {},
   "outputs": [],
   "source": [
    "import numpy as np"
   ]
  },
  {
   "cell_type": "code",
   "execution_count": 31,
   "id": "c13dd577-45ca-430a-acf4-8af9992e8cdf",
   "metadata": {},
   "outputs": [
    {
     "name": "stdout",
     "output_type": "stream",
     "text": [
      "[0 1 2 3 4 5 6 7 8 9]\n"
     ]
    }
   ],
   "source": [
    "array_1d = np.arange(10)\n",
    "print(array_1d)"
   ]
  },
  {
   "cell_type": "code",
   "execution_count": 32,
   "id": "8598fdb6-1354-4992-9f01-a094754ae914",
   "metadata": {},
   "outputs": [
    {
     "name": "stdout",
     "output_type": "stream",
     "text": [
      "2\n"
     ]
    }
   ],
   "source": [
    "# Third element\n",
    "print(array_1d[2])"
   ]
  },
  {
   "cell_type": "code",
   "execution_count": 28,
   "id": "ca65e70f-3f19-4b59-ba77-fc4b7f9614f5",
   "metadata": {
    "scrolled": true
   },
   "outputs": [
    {
     "name": "stdout",
     "output_type": "stream",
     "text": [
      "[2 5 6]\n"
     ]
    }
   ],
   "source": [
    "# Specific elements\n",
    "# Notice that array[2, 5, 6] will throw an error, you need to provide the indices as a list\n",
    "print(array_1d[[2, 5, 6]])"
   ]
  },
  {
   "cell_type": "code",
   "execution_count": 29,
   "id": "60258a62-9120-4f2a-aca4-6b69154fbf85",
   "metadata": {},
   "outputs": [
    {
     "name": "stdout",
     "output_type": "stream",
     "text": [
      "[2 3 4 5 6 7 8 9]\n"
     ]
    }
   ],
   "source": [
    "# Slice third element onwards\n",
    "print(array_1d[2:])"
   ]
  },
  {
   "cell_type": "code",
   "execution_count": 30,
   "id": "bfad65b8-eae5-438a-9676-a8bcdb1bb087",
   "metadata": {},
   "outputs": [
    {
     "name": "stdout",
     "output_type": "stream",
     "text": [
      "[0 1 2]\n"
     ]
    }
   ],
   "source": [
    "# Slice first three elements\n",
    "print(array_1d[:3])"
   ]
  },
  {
   "cell_type": "code",
   "execution_count": 33,
   "id": "8002af3a-a5d1-4dde-b1ab-04ff0cbe920a",
   "metadata": {},
   "outputs": [
    {
     "name": "stdout",
     "output_type": "stream",
     "text": [
      "[2 3 4 5 6]\n"
     ]
    }
   ],
   "source": [
    "# Slice third to seventh elements\n",
    "print(array_1d[2:7])"
   ]
  },
  {
   "cell_type": "code",
   "execution_count": 34,
   "id": "a2dc612f-6a14-4200-b56a-0ff579ac3a27",
   "metadata": {},
   "outputs": [
    {
     "name": "stdout",
     "output_type": "stream",
     "text": [
      "[0 2 4 6 8]\n"
     ]
    }
   ],
   "source": [
    "# Subset starting 0 at increment of 2 \n",
    "print(array_1d[0::2])"
   ]
  },
  {
   "cell_type": "code",
   "execution_count": 35,
   "id": "82f57d87-bcca-4866-83c1-1e9b119f10b5",
   "metadata": {},
   "outputs": [
    {
     "name": "stdout",
     "output_type": "stream",
     "text": [
      "9\n"
     ]
    }
   ],
   "source": [
    "# Last Element of af an array \n",
    "print(array_1d[-1])"
   ]
  },
  {
   "cell_type": "code",
   "execution_count": 36,
   "id": "151330b4-f286-4afb-9e40-417c0985c6c9",
   "metadata": {},
   "outputs": [
    {
     "name": "stdout",
     "output_type": "stream",
     "text": [
      "0\n",
      "1\n",
      "4\n",
      "9\n",
      "16\n",
      "25\n",
      "36\n",
      "49\n",
      "64\n",
      "81\n"
     ]
    }
   ],
   "source": [
    "# Iterations are also similar to lists\n",
    "for i in array_1d:\n",
    "    print(i**2)"
   ]
  },
  {
   "cell_type": "markdown",
   "id": "c260beec-866c-4f5f-80f3-559ad6bbb4db",
   "metadata": {},
   "source": [
    "### Indexing and Slicing on 2-D Arrays"
   ]
  },
  {
   "cell_type": "code",
   "execution_count": 37,
   "id": "ce1c42d9-ebd2-4ad0-bdf6-ed971b475801",
   "metadata": {},
   "outputs": [
    {
     "name": "stdout",
     "output_type": "stream",
     "text": [
      "[[ 2  5  7  5]\n",
      " [ 4  6  8 10]\n",
      " [10 12 15 19]]\n"
     ]
    }
   ],
   "source": [
    "array_2d = np.array([[2, 5, 7, 5], [4, 6, 8, 10], [10, 12, 15, 19]])\n",
    "print(array_2d)"
   ]
  },
  {
   "cell_type": "code",
   "execution_count": 38,
   "id": "f40692b3-c9f5-4ae8-a2ce-96558229a9b8",
   "metadata": {},
   "outputs": [
    {
     "name": "stdout",
     "output_type": "stream",
     "text": [
      "12\n"
     ]
    }
   ],
   "source": [
    "# Third row second column\n",
    "print(array_2d[2, 1])"
   ]
  },
  {
   "cell_type": "code",
   "execution_count": 39,
   "id": "7c1f94fb-4f7c-40cc-891d-27c7e28bb0cd",
   "metadata": {},
   "outputs": [
    {
     "name": "stdout",
     "output_type": "stream",
     "text": [
      "[ 4  6  8 10]\n",
      "<class 'numpy.ndarray'>\n"
     ]
    }
   ],
   "source": [
    "# Slicing the second row, and all columns\n",
    "# Notice that the resultant is itself a 1-D array\n",
    "print(array_2d[1, :])\n",
    "print(type(array_2d[1, :]))"
   ]
  },
  {
   "cell_type": "code",
   "execution_count": 40,
   "id": "f24256d0-b7e9-4cb1-8c70-d7391bef2b26",
   "metadata": {},
   "outputs": [
    {
     "name": "stdout",
     "output_type": "stream",
     "text": [
      "[ 7  8 15]\n"
     ]
    }
   ],
   "source": [
    "# Slicing all rows and the third column\n",
    "print(array_2d[:, 2])"
   ]
  },
  {
   "cell_type": "code",
   "execution_count": 41,
   "id": "1fec32ea-b5c9-45c9-abb6-c6275f2fe4d3",
   "metadata": {},
   "outputs": [
    {
     "name": "stdout",
     "output_type": "stream",
     "text": [
      "[[ 2  5  7  5]\n",
      " [ 4  6  8 10]\n",
      " [10 12 15 19]]\n"
     ]
    }
   ],
   "source": [
    "# Slicing all rows and all the columns\n",
    "print(array_2d[:, :])"
   ]
  },
  {
   "cell_type": "code",
   "execution_count": 42,
   "id": "6e5c10c9-613f-42ba-8ace-c11804577ee3",
   "metadata": {},
   "outputs": [
    {
     "name": "stdout",
     "output_type": "stream",
     "text": [
      "[[ 2  5  7]\n",
      " [ 4  6  8]\n",
      " [10 12 15]]\n"
     ]
    }
   ],
   "source": [
    "# Slicing all rows and the first three columns\n",
    "print(array_2d[:, :3])"
   ]
  },
  {
   "cell_type": "code",
   "execution_count": 43,
   "id": "9e3f3d73-5e0a-49ed-800b-f9a9755dbc37",
   "metadata": {},
   "outputs": [
    {
     "name": "stdout",
     "output_type": "stream",
     "text": [
      "[[ 2  5  7  5]\n",
      " [ 4  6  8 10]]\n"
     ]
    }
   ],
   "source": [
    "# Slicing fisrt two rows and all the columns\n",
    "print(array_2d[:2,:])"
   ]
  },
  {
   "cell_type": "markdown",
   "id": "3b53a07e-636a-4199-bff3-aa29550a6128",
   "metadata": {},
   "source": [
    "### Another Method"
   ]
  },
  {
   "cell_type": "code",
   "execution_count": 44,
   "id": "adbb48bf-d83c-49a0-b93b-c456c1ab65a2",
   "metadata": {},
   "outputs": [
    {
     "name": "stdout",
     "output_type": "stream",
     "text": [
      "[[ 2  5  7]\n",
      " [ 4  6  8]\n",
      " [10 12 15]]\n"
     ]
    }
   ],
   "source": [
    "# Slicing all rows using three dots and the first three columns\n",
    "print(array_2d[..., :3])"
   ]
  },
  {
   "cell_type": "code",
   "execution_count": 45,
   "id": "fb5a6e31-116d-4d53-86df-31ee6216a6d0",
   "metadata": {},
   "outputs": [
    {
     "name": "stdout",
     "output_type": "stream",
     "text": [
      "[[ 2  5  7  5]\n",
      " [ 4  6  8 10]]\n"
     ]
    }
   ],
   "source": [
    "# Slicing fisrt two rows and all the columns using three dots\n",
    "print(array_2d[:2,...])"
   ]
  },
  {
   "cell_type": "markdown",
   "id": "ab3e011b-028f-442e-a546-644c3ec02ce7",
   "metadata": {},
   "source": [
    "Iterating on 2-D arrays is done with respect to the first axis (which is row, the second axis is column)."
   ]
  },
  {
   "cell_type": "code",
   "execution_count": 46,
   "id": "79bdc147-4028-4a0f-b248-1bd8637aa0b4",
   "metadata": {},
   "outputs": [
    {
     "name": "stdout",
     "output_type": "stream",
     "text": [
      "[2 5 7 5]\n",
      "[ 4  6  8 10]\n",
      "[10 12 15 19]\n"
     ]
    }
   ],
   "source": [
    "# Iterating over 2-D arrays\n",
    "for row in array_2d:\n",
    "    print(row)"
   ]
  },
  {
   "cell_type": "code",
   "execution_count": 47,
   "id": "d0d531bf-dd63-45ff-b5e0-928fad4b73be",
   "metadata": {},
   "outputs": [
    {
     "name": "stdout",
     "output_type": "stream",
     "text": [
      "[[[ 0  1  2  3]\n",
      "  [ 4  5  6  7]\n",
      "  [ 8  9 10 11]]\n",
      "\n",
      " [[12 13 14 15]\n",
      "  [16 17 18 19]\n",
      "  [20 21 22 23]]]\n"
     ]
    }
   ],
   "source": [
    "# Iterating over 3-D arrays: Done with respect to the first axis\n",
    "array_3d = np.arange(24).reshape(2, 3, 4) #2 Arrays of 3 rows and 4 columns : 2*3*4 = 24\n",
    "print(array_3d)"
   ]
  },
  {
   "cell_type": "code",
   "execution_count": 49,
   "id": "37f257b5-edcb-4134-b658-2dde3a8a210c",
   "metadata": {},
   "outputs": [
    {
     "name": "stdout",
     "output_type": "stream",
     "text": [
      "[[ 0  1  2  3]\n",
      " [ 4  5  6  7]\n",
      " [ 8  9 10 11]]\n",
      "[[12 13 14 15]\n",
      " [16 17 18 19]\n",
      " [20 21 22 23]]\n"
     ]
    }
   ],
   "source": [
    "# Prints the two blocks\n",
    "for row in array_3d:\n",
    "    print(row)"
   ]
  },
  {
   "cell_type": "markdown",
   "id": "1cfbedaf-7109-45f1-9ad0-fd59473d550f",
   "metadata": {},
   "source": [
    "### Boolean Indexing"
   ]
  },
  {
   "cell_type": "code",
   "execution_count": 50,
   "id": "cf0d0ce7-7ee1-4c0b-b159-a9b1354252c6",
   "metadata": {},
   "outputs": [
    {
     "data": {
      "text/plain": [
       "array([[ 0,  1,  2,  3,  4],\n",
       "       [ 5,  6,  7,  8,  9],\n",
       "       [10, 11, 12, 13, 14],\n",
       "       [15, 16, 17, 18, 19],\n",
       "       [20, 21, 22, 23, 24]])"
      ]
     },
     "execution_count": 50,
     "metadata": {},
     "output_type": "execute_result"
    }
   ],
   "source": [
    "arr1 = np.arange(25).reshape((5,5))\n",
    "arr1"
   ]
  },
  {
   "cell_type": "code",
   "execution_count": 51,
   "id": "53528e49-210c-4c96-bfca-4615b3c62be8",
   "metadata": {},
   "outputs": [
    {
     "name": "stdout",
     "output_type": "stream",
     "text": [
      "[[ 0  1  2  3  4]\n",
      " [ 5  6  7  8  9]\n",
      " [15 16 17 18 19]]\n"
     ]
    }
   ],
   "source": [
    "bools = np.array([True, True, False, True, False])\n",
    "print(arr1[bools])"
   ]
  },
  {
   "cell_type": "code",
   "execution_count": 52,
   "id": "26e008e3-e2ea-40ff-a1e0-8e1e4e7da17f",
   "metadata": {},
   "outputs": [
    {
     "name": "stdout",
     "output_type": "stream",
     "text": [
      "[[10 11 12 13 14]\n",
      " [20 21 22 23 24]]\n"
     ]
    }
   ],
   "source": [
    "# negate the condition\n",
    "print(arr1[~bools])"
   ]
  },
  {
   "cell_type": "markdown",
   "id": "9c85bd88-4836-491b-a423-fd9c2b420336",
   "metadata": {},
   "source": [
    "### Find elements/indices by conditions"
   ]
  },
  {
   "cell_type": "code",
   "execution_count": 53,
   "id": "cd2b1a3a-73e7-46a9-a247-eb07c422edf6",
   "metadata": {},
   "outputs": [
    {
     "data": {
      "text/plain": [
       "array([[ 0,  1,  2,  3],\n",
       "       [ 4,  5,  6,  7],\n",
       "       [ 8,  9, 10, 11],\n",
       "       [12, 13, 14, 15]])"
      ]
     },
     "execution_count": 53,
     "metadata": {},
     "output_type": "execute_result"
    }
   ],
   "source": [
    "arr = np.arange(16).reshape(4,4)\n",
    "arr"
   ]
  },
  {
   "cell_type": "code",
   "execution_count": 54,
   "id": "edd40436-c371-4327-8c7a-13c2c8f07dd4",
   "metadata": {},
   "outputs": [
    {
     "name": "stdout",
     "output_type": "stream",
     "text": [
      "[ 6  7  8  9 10 11 12 13 14 15]\n"
     ]
    }
   ],
   "source": [
    "# find the elements greater than 5 and return a flattened array\n",
    "print(arr[arr>5])    # or arr[np.where(arr>5)]"
   ]
  },
  {
   "cell_type": "code",
   "execution_count": 55,
   "id": "d82b62c1-3200-4d8f-aabe-744adfee3069",
   "metadata": {},
   "outputs": [
    {
     "name": "stdout",
     "output_type": "stream",
     "text": [
      "[[10 10 10 10]\n",
      " [10 10 -1 -1]\n",
      " [-1 -1 -1 -1]\n",
      " [-1 -1 -1 -1]]\n"
     ]
    }
   ],
   "source": [
    "# return values based on conditions \n",
    "# np.where(condition, true_return, false_return)\n",
    "print(np.where(arr>5, -1, 10))"
   ]
  },
  {
   "cell_type": "code",
   "execution_count": 56,
   "id": "c1246612-be55-4e9b-8260-2623a69e4f94",
   "metadata": {},
   "outputs": [
    {
     "name": "stdout",
     "output_type": "stream",
     "text": [
      "[[1 2]\n",
      " [1 3]\n",
      " [2 0]\n",
      " [2 1]\n",
      " [2 2]\n",
      " [2 3]\n",
      " [3 0]\n",
      " [3 1]\n",
      " [3 2]\n",
      " [3 3]]\n"
     ]
    }
   ],
   "source": [
    "# find the indices of the elements on conditions\n",
    "print(np.argwhere(arr>5))"
   ]
  },
  {
   "cell_type": "code",
   "execution_count": null,
   "id": "8621fda6-c918-46c7-9f3d-9d592d414dc2",
   "metadata": {},
   "outputs": [],
   "source": []
  }
 ],
 "metadata": {
  "kernelspec": {
   "display_name": "Python 3 (ipykernel)",
   "language": "python",
   "name": "python3"
  },
  "language_info": {
   "codemirror_mode": {
    "name": "ipython",
    "version": 3
   },
   "file_extension": ".py",
   "mimetype": "text/x-python",
   "name": "python",
   "nbconvert_exporter": "python",
   "pygments_lexer": "ipython3",
   "version": "3.12.0"
  }
 },
 "nbformat": 4,
 "nbformat_minor": 5
}
