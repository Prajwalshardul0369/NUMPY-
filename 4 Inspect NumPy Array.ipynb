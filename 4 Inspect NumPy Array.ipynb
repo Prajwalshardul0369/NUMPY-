{
 "cells": [
  {
   "cell_type": "markdown",
   "id": "46fefd11-03bf-482a-83cd-785cd3e2330f",
   "metadata": {},
   "source": [
    "## Inspect NumPy Array"
   ]
  },
  {
   "cell_type": "code",
   "execution_count": 1,
   "id": "807e7384-a9e0-435b-87be-0ef1803c552e",
   "metadata": {},
   "outputs": [],
   "source": [
    "import numpy as np"
   ]
  },
  {
   "cell_type": "code",
   "execution_count": 2,
   "id": "1da0d44e-c897-4516-9f41-c54d13b9dcc5",
   "metadata": {},
   "outputs": [
    {
     "data": {
      "text/plain": [
       "array([[1, 2, 3],\n",
       "       [4, 5, 6]], dtype=int64)"
      ]
     },
     "execution_count": 2,
     "metadata": {},
     "output_type": "execute_result"
    }
   ],
   "source": [
    "arr = np.array([[1,2,3], [4,5,6]], dtype=np.int64)\n",
    "arr\n"
   ]
  },
  {
   "cell_type": "markdown",
   "id": "bea44178-7468-42b0-99b0-4a706c5b96b9",
   "metadata": {},
   "source": [
    "### Inspect general information of an array"
   ]
  },
  {
   "cell_type": "code",
   "execution_count": 3,
   "id": "9352be2c-d640-4205-8e0a-746799bfee05",
   "metadata": {},
   "outputs": [
    {
     "name": "stdout",
     "output_type": "stream",
     "text": [
      "class:  ndarray\n",
      "shape:  (2, 3)\n",
      "strides:  (24, 8)\n",
      "itemsize:  8\n",
      "aligned:  True\n",
      "contiguous:  True\n",
      "fortran:  False\n",
      "data pointer: 0x1da5f7c98e0\n",
      "byteorder:  little\n",
      "byteswap:  False\n",
      "type: int64\n",
      "None\n"
     ]
    }
   ],
   "source": [
    "print(np.info(arr))"
   ]
  },
  {
   "cell_type": "markdown",
   "id": "791014e9-a358-4390-8735-95ae65a28459",
   "metadata": {},
   "source": [
    "### Inspect the data type of an array"
   ]
  },
  {
   "cell_type": "code",
   "execution_count": 4,
   "id": "92a7f4f4-5332-424b-996e-5c9a53082192",
   "metadata": {},
   "outputs": [
    {
     "name": "stdout",
     "output_type": "stream",
     "text": [
      "int64\n"
     ]
    }
   ],
   "source": [
    "print(arr.dtype)"
   ]
  },
  {
   "cell_type": "markdown",
   "id": "53a894f6-3674-4530-9517-76ec069bfce5",
   "metadata": {},
   "source": [
    "### Inspect the dimension of an array"
   ]
  },
  {
   "cell_type": "code",
   "execution_count": 5,
   "id": "0c8e024a-6426-4e1d-9336-581a406ba71e",
   "metadata": {},
   "outputs": [
    {
     "name": "stdout",
     "output_type": "stream",
     "text": [
      "(2, 3)\n"
     ]
    }
   ],
   "source": [
    "print(arr.shape)"
   ]
  },
  {
   "cell_type": "markdown",
   "id": "c67bc7c3-7768-44d9-bac0-2091b52c8d7a",
   "metadata": {},
   "source": [
    "### Inspect length of an array"
   ]
  },
  {
   "cell_type": "code",
   "execution_count": 6,
   "id": "18d4c095-5a84-4993-acfb-88d5d503673f",
   "metadata": {},
   "outputs": [
    {
     "name": "stdout",
     "output_type": "stream",
     "text": [
      "2\n"
     ]
    }
   ],
   "source": [
    "print(len(arr))"
   ]
  },
  {
   "cell_type": "markdown",
   "id": "f375977e-f918-4004-a8ae-5debe948c094",
   "metadata": {},
   "source": [
    "### Inspect the number of elements in an array"
   ]
  },
  {
   "cell_type": "code",
   "execution_count": 7,
   "id": "f492e187-1bab-495e-86dd-caf850787d8c",
   "metadata": {},
   "outputs": [
    {
     "name": "stdout",
     "output_type": "stream",
     "text": [
      "6\n"
     ]
    }
   ],
   "source": [
    "print(arr.size)"
   ]
  },
  {
   "cell_type": "markdown",
   "id": "193f533c-48e7-4908-bdc4-e6d9ab381b3a",
   "metadata": {},
   "source": [
    "### Inspect the number of bytes of each element in an array"
   ]
  },
  {
   "cell_type": "code",
   "execution_count": 8,
   "id": "90be8688-2819-425c-b86f-b216b46a89df",
   "metadata": {},
   "outputs": [
    {
     "name": "stdout",
     "output_type": "stream",
     "text": [
      "8\n"
     ]
    }
   ],
   "source": [
    "print(arr.itemsize)"
   ]
  },
  {
   "cell_type": "markdown",
   "id": "4e4e836f-2aa4-4a1d-8942-fe56dec0420a",
   "metadata": {},
   "source": [
    "### Inspect the memory size of an array (in byte)"
   ]
  },
  {
   "cell_type": "code",
   "execution_count": 9,
   "id": "0a24163e-d6e8-466b-bea8-f01e0040ba39",
   "metadata": {},
   "outputs": [
    {
     "name": "stdout",
     "output_type": "stream",
     "text": [
      "48\n"
     ]
    }
   ],
   "source": [
    "# arr.nbytes = arr.size * arr.itemsize\n",
    "print(arr.nbytes)"
   ]
  },
  {
   "cell_type": "code",
   "execution_count": null,
   "id": "0d2dcd1f-18e3-400c-a975-8319edd381bf",
   "metadata": {},
   "outputs": [],
   "source": []
  },
  {
   "cell_type": "code",
   "execution_count": null,
   "id": "0e44a34d-9b07-44fa-a607-1d4b4b10c82f",
   "metadata": {},
   "outputs": [],
   "source": []
  }
 ],
 "metadata": {
  "kernelspec": {
   "display_name": "Python 3 (ipykernel)",
   "language": "python",
   "name": "python3"
  },
  "language_info": {
   "codemirror_mode": {
    "name": "ipython",
    "version": 3
   },
   "file_extension": ".py",
   "mimetype": "text/x-python",
   "name": "python",
   "nbconvert_exporter": "python",
   "pygments_lexer": "ipython3",
   "version": "3.12.0"
  }
 },
 "nbformat": 4,
 "nbformat_minor": 5
}
