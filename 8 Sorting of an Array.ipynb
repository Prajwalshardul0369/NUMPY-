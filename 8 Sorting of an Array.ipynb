{
 "cells": [
  {
   "cell_type": "markdown",
   "id": "f0abd246-83c4-4385-a077-00b4eda406f7",
   "metadata": {},
   "source": [
    "## Sorting of an Array "
   ]
  },
  {
   "cell_type": "code",
   "execution_count": 2,
   "id": "86461d92-1879-41c7-9199-a991ae2dc143",
   "metadata": {},
   "outputs": [],
   "source": [
    "import numpy as np"
   ]
  },
  {
   "cell_type": "code",
   "execution_count": 7,
   "id": "7f3c0300-e6cd-4808-b3ca-474efdea5f1c",
   "metadata": {},
   "outputs": [
    {
     "data": {
      "text/plain": [
       "array([[30, 17, 15],\n",
       "       [19, 90, 16],\n",
       "       [69, 53, 21]])"
      ]
     },
     "execution_count": 7,
     "metadata": {},
     "output_type": "execute_result"
    }
   ],
   "source": [
    "arr = np.array([[30,17,15],[19,90,16],[69,53,21]]) \n",
    "arr"
   ]
  },
  {
   "cell_type": "markdown",
   "id": "c88a75a0-99f7-443d-a0c0-1e00acff3d12",
   "metadata": {},
   "source": [
    "### sort an array along a specified axis"
   ]
  },
  {
   "cell_type": "code",
   "execution_count": 8,
   "id": "3448ffbd-a8a6-495c-beb1-8a6e33b6873d",
   "metadata": {},
   "outputs": [
    {
     "name": "stdout",
     "output_type": "stream",
     "text": [
      "[[19 17 15]\n",
      " [30 53 16]\n",
      " [69 90 21]]\n"
     ]
    }
   ],
   "source": [
    "# sort along the row and return a copy\n",
    "print(np.sort(arr, axis=0)) "
   ]
  },
  {
   "cell_type": "code",
   "execution_count": 9,
   "id": "f72922c8-e8cb-451b-8673-0190448dc671",
   "metadata": {},
   "outputs": [
    {
     "name": "stdout",
     "output_type": "stream",
     "text": [
      "[[19 17 15]\n",
      " [30 53 16]\n",
      " [69 90 21]]\n"
     ]
    }
   ],
   "source": [
    "# sort along the row in place\n",
    "arr.sort(axis=0)\n",
    "print(arr)"
   ]
  },
  {
   "cell_type": "code",
   "execution_count": 10,
   "id": "f12dfcaf-44c9-4d8c-afe9-0a52b0559e13",
   "metadata": {},
   "outputs": [
    {
     "name": "stdout",
     "output_type": "stream",
     "text": [
      "[[15 17 19]\n",
      " [16 30 53]\n",
      " [21 69 90]]\n"
     ]
    }
   ],
   "source": [
    "# sort along the column and return a copy\n",
    "print(np.sort(arr, axis=1))"
   ]
  },
  {
   "cell_type": "code",
   "execution_count": 11,
   "id": "ebd62f5c-4d76-4f64-8ee4-0b4a46d57be1",
   "metadata": {},
   "outputs": [
    {
     "name": "stdout",
     "output_type": "stream",
     "text": [
      "[[15 17 19]\n",
      " [16 30 53]\n",
      " [21 69 90]]\n"
     ]
    }
   ],
   "source": [
    "# sort along the column in place\n",
    "arr.sort(axis=1)    \n",
    "print(arr)"
   ]
  },
  {
   "cell_type": "markdown",
   "id": "646fc0b9-a98e-44f7-985a-e1269b1d3513",
   "metadata": {},
   "source": [
    "### Order parameter in sort function"
   ]
  },
  {
   "cell_type": "code",
   "execution_count": 12,
   "id": "df08bc0f-0b6d-4071-b72e-b4815b018ce8",
   "metadata": {},
   "outputs": [
    {
     "data": {
      "text/plain": [
       "array([(b'Karan', 21), (b'Arpit', 25), (b'Ashish', 17), (b'Sam', 27),\n",
       "       (b'Robin', 22)], dtype=[('name', 'S10'), ('age', '<i4')])"
      ]
     },
     "execution_count": 12,
     "metadata": {},
     "output_type": "execute_result"
    }
   ],
   "source": [
    "dt = np.dtype([('name', 'S10'),('age', int)]) \n",
    "arr = np.array([(\"Karan\",21),(\"Arpit\",25),(\"Ashish\", 17), (\"Sam\",27),(\"Robin\",22)], dtype = dt)  \n",
    "arr "
   ]
  },
  {
   "cell_type": "markdown",
   "id": "d33fb682-49db-4802-82ed-a796d0b5c2c0",
   "metadata": {},
   "source": [
    "### Order by name¶"
   ]
  },
  {
   "cell_type": "code",
   "execution_count": 13,
   "id": "ec689e0b-c33b-4634-8729-ee3b2b9ca4f8",
   "metadata": {},
   "outputs": [
    {
     "data": {
      "text/plain": [
       "array([(b'Arpit', 25), (b'Ashish', 17), (b'Karan', 21), (b'Robin', 22),\n",
       "       (b'Sam', 27)], dtype=[('name', 'S10'), ('age', '<i4')])"
      ]
     },
     "execution_count": 13,
     "metadata": {},
     "output_type": "execute_result"
    }
   ],
   "source": [
    "np.sort(arr, order = 'name')"
   ]
  },
  {
   "cell_type": "markdown",
   "id": "09734aac-eb94-4656-a736-3b0e4140203f",
   "metadata": {},
   "source": [
    "### Order by age:"
   ]
  },
  {
   "cell_type": "code",
   "execution_count": 14,
   "id": "74c42878-3d7f-4f19-ae7d-1599e090d4c0",
   "metadata": {},
   "outputs": [
    {
     "data": {
      "text/plain": [
       "array([(b'Ashish', 17), (b'Karan', 21), (b'Robin', 22), (b'Arpit', 25),\n",
       "       (b'Sam', 27)], dtype=[('name', 'S10'), ('age', '<i4')])"
      ]
     },
     "execution_count": 14,
     "metadata": {},
     "output_type": "execute_result"
    }
   ],
   "source": [
    "np.sort(arr, order = 'age')"
   ]
  },
  {
   "cell_type": "markdown",
   "id": "560ef7c7-8b75-42a8-a148-b939e1327ab8",
   "metadata": {},
   "source": [
    "### compute the indices that would sort an array along a specified axis"
   ]
  },
  {
   "cell_type": "code",
   "execution_count": 15,
   "id": "7ca66eaf-0a5c-4230-9424-87273f20a92d",
   "metadata": {},
   "outputs": [
    {
     "data": {
      "text/plain": [
       "array([[0.48897492, 0.73496804, 0.7465687 , 0.99914293, 0.4057804 ],\n",
       "       [0.47368446, 0.32344592, 0.90002478, 0.02302244, 0.30789063],\n",
       "       [0.08311323, 0.43288063, 0.40523945, 0.61781306, 0.71226529],\n",
       "       [0.31922786, 0.46233236, 0.64810468, 0.73288642, 0.74328919],\n",
       "       [0.91232515, 0.36832296, 0.27462851, 0.38936916, 0.74795193]])"
      ]
     },
     "execution_count": 15,
     "metadata": {},
     "output_type": "execute_result"
    }
   ],
   "source": [
    "arr = np.random.rand(5,5)\n",
    "arr"
   ]
  },
  {
   "cell_type": "code",
   "execution_count": 16,
   "id": "1a27a298-f839-496a-a3cf-800e0fed6131",
   "metadata": {},
   "outputs": [
    {
     "name": "stdout",
     "output_type": "stream",
     "text": [
      "[[2 1 4 1 1]\n",
      " [3 4 2 4 0]\n",
      " [1 2 3 2 2]\n",
      " [0 3 0 3 3]\n",
      " [4 0 1 0 4]]\n"
     ]
    }
   ],
   "source": [
    "# along the row\n",
    "print(np.argsort(arr, axis=0))"
   ]
  },
  {
   "cell_type": "code",
   "execution_count": 17,
   "id": "b3609c31-e13d-4cdd-9294-7c1c9b5f23a9",
   "metadata": {},
   "outputs": [
    {
     "name": "stdout",
     "output_type": "stream",
     "text": [
      "[[4 0 1 2 3]\n",
      " [3 4 1 0 2]\n",
      " [0 2 1 3 4]\n",
      " [0 1 2 3 4]\n",
      " [2 1 3 4 0]]\n"
     ]
    }
   ],
   "source": [
    "# along the column\n",
    "print(np.argsort(arr, axis=1))"
   ]
  },
  {
   "cell_type": "code",
   "execution_count": 18,
   "id": "2d5b1786-5bb0-4c92-87a6-b68a32ca8e8d",
   "metadata": {},
   "outputs": [
    {
     "name": "stdout",
     "output_type": "stream",
     "text": [
      "[ 8 10 22  9 15  6 21 23 12  4 11 16  5  0 13 17 14 18  1 19  2 24  7 20\n",
      "  3]\n"
     ]
    }
   ],
   "source": [
    "# if axis=None, return the indices of a flattened array\n",
    "print(np.argsort(arr, axis=None))"
   ]
  },
  {
   "cell_type": "code",
   "execution_count": null,
   "id": "69fb0050-24b5-4b2a-9c7b-967ed91f1073",
   "metadata": {},
   "outputs": [],
   "source": []
  }
 ],
 "metadata": {
  "kernelspec": {
   "display_name": "Python 3 (ipykernel)",
   "language": "python",
   "name": "python3"
  },
  "language_info": {
   "codemirror_mode": {
    "name": "ipython",
    "version": 3
   },
   "file_extension": ".py",
   "mimetype": "text/x-python",
   "name": "python",
   "nbconvert_exporter": "python",
   "pygments_lexer": "ipython3",
   "version": "3.12.0"
  }
 },
 "nbformat": 4,
 "nbformat_minor": 5
}
