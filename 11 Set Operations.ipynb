{
 "cells": [
  {
   "cell_type": "markdown",
   "id": "f4489889-71b0-478e-968b-2a13bbd22f46",
   "metadata": {},
   "source": [
    "## Numpy Set Operations"
   ]
  },
  {
   "cell_type": "code",
   "execution_count": 1,
   "id": "233c4506-9d8e-478e-aab7-7e442095a78e",
   "metadata": {},
   "outputs": [],
   "source": [
    "import numpy as np"
   ]
  },
  {
   "cell_type": "markdown",
   "id": "ac08560c-bd53-4e14-ae70-61ea960e58bc",
   "metadata": {},
   "source": [
    "#### select the unique elements from an array"
   ]
  },
  {
   "cell_type": "code",
   "execution_count": 2,
   "id": "7afb7b08-e354-4304-af38-0ea83616d52c",
   "metadata": {},
   "outputs": [
    {
     "name": "stdout",
     "output_type": "stream",
     "text": [
      "[1 2 3 4 5 6]\n"
     ]
    }
   ],
   "source": [
    "arr = np.array([1,1,2,2,3,3,4,5,6])\n",
    "print(np.unique(arr))"
   ]
  },
  {
   "cell_type": "code",
   "execution_count": 3,
   "id": "6f6e7bf6-8dfb-44d2-a470-1df36f7c59ad",
   "metadata": {},
   "outputs": [
    {
     "name": "stdout",
     "output_type": "stream",
     "text": [
      "[1 2 3 4 5 6]\n",
      "[2 2 2 1 1 1]\n"
     ]
    }
   ],
   "source": [
    "# return the number of times each unique item appears\n",
    "arr = np.array([1,1,2,2,3,3,4,5,6])\n",
    "uniques, counts = np.unique(arr, return_counts=True)\n",
    "print(uniques)\n",
    "print(counts)"
   ]
  },
  {
   "cell_type": "markdown",
   "id": "a835256b-bba0-409a-ae9d-5b04876b584d",
   "metadata": {},
   "source": [
    "#### compute the intersection & union of two arrays"
   ]
  },
  {
   "cell_type": "code",
   "execution_count": 4,
   "id": "98552298-f375-4381-b1da-d28af2c0fd9e",
   "metadata": {},
   "outputs": [],
   "source": [
    "arr1 = np.array([1,2,3,4,5])\n",
    "arr2 = np.array([3,4,5,6,7])"
   ]
  },
  {
   "cell_type": "code",
   "execution_count": 5,
   "id": "585c1c2c-c4a8-4c43-b037-3fbf07e8f757",
   "metadata": {},
   "outputs": [
    {
     "name": "stdout",
     "output_type": "stream",
     "text": [
      "[3 4 5]\n"
     ]
    }
   ],
   "source": [
    "# intersection\n",
    "print(np.intersect1d(arr1, arr2))"
   ]
  },
  {
   "cell_type": "code",
   "execution_count": 6,
   "id": "2b0a6201-b3e4-4252-8f09-69ce085083b0",
   "metadata": {},
   "outputs": [
    {
     "name": "stdout",
     "output_type": "stream",
     "text": [
      "[1 2 3 4 5 6 7]\n"
     ]
    }
   ],
   "source": [
    "# union\n",
    "print(np.union1d(arr1, arr2))"
   ]
  },
  {
   "cell_type": "markdown",
   "id": "447b1985-9761-4820-a61a-de8192c179fb",
   "metadata": {},
   "source": [
    "#### compute whether each element of an array is contained in another"
   ]
  },
  {
   "cell_type": "code",
   "execution_count": 7,
   "id": "2ea5177b-996d-4828-94fa-e7d0f70c5c44",
   "metadata": {},
   "outputs": [
    {
     "name": "stdout",
     "output_type": "stream",
     "text": [
      "[False False  True  True  True]\n"
     ]
    }
   ],
   "source": [
    "print(np.in1d(arr1, arr2))"
   ]
  },
  {
   "cell_type": "code",
   "execution_count": 8,
   "id": "d8e8354f-61fd-4e2d-8b52-2c20bfaf8959",
   "metadata": {},
   "outputs": [
    {
     "name": "stdout",
     "output_type": "stream",
     "text": [
      "[False False  True  True  True]\n"
     ]
    }
   ],
   "source": [
    "# preserve the shape of the array in the output, if the array is of higher dimensions\n",
    "print(np.isin(arr1, arr2))"
   ]
  },
  {
   "cell_type": "markdown",
   "id": "5f6b73a3-c7b3-4143-b6b4-755ea48bd949",
   "metadata": {},
   "source": [
    "#### compute the elements in an array that are not in another"
   ]
  },
  {
   "cell_type": "code",
   "execution_count": 9,
   "id": "3933c626-f40e-409d-87e3-22c4f4022792",
   "metadata": {},
   "outputs": [
    {
     "name": "stdout",
     "output_type": "stream",
     "text": [
      "[1 2]\n"
     ]
    }
   ],
   "source": [
    "print(np.setdiff1d(arr1, arr2))"
   ]
  },
  {
   "cell_type": "markdown",
   "id": "463573e2-8508-47f2-9f98-d2db3408d379",
   "metadata": {},
   "source": [
    "#### compute the elements in either of two arrays, but not both"
   ]
  },
  {
   "cell_type": "code",
   "execution_count": 10,
   "id": "f042e81b-25a4-4e81-9272-f13355ecd11d",
   "metadata": {},
   "outputs": [
    {
     "name": "stdout",
     "output_type": "stream",
     "text": [
      "[1 2 6 7]\n"
     ]
    }
   ],
   "source": [
    "print(np.setxor1d(arr1, arr2))"
   ]
  },
  {
   "cell_type": "code",
   "execution_count": null,
   "id": "37133cbf-fc5f-4a3c-8078-39b1c35cf1ed",
   "metadata": {},
   "outputs": [],
   "source": []
  },
  {
   "cell_type": "code",
   "execution_count": null,
   "id": "0bb5e9bb-710f-41f2-b4d9-e4ceccf40f63",
   "metadata": {},
   "outputs": [],
   "source": []
  }
 ],
 "metadata": {
  "kernelspec": {
   "display_name": "Python 3 (ipykernel)",
   "language": "python",
   "name": "python3"
  },
  "language_info": {
   "codemirror_mode": {
    "name": "ipython",
    "version": 3
   },
   "file_extension": ".py",
   "mimetype": "text/x-python",
   "name": "python",
   "nbconvert_exporter": "python",
   "pygments_lexer": "ipython3",
   "version": "3.12.0"
  }
 },
 "nbformat": 4,
 "nbformat_minor": 5
}
