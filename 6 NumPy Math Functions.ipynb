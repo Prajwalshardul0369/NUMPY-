{
 "cells": [
  {
   "cell_type": "markdown",
   "id": "669bb8b2-596e-47f2-9549-f3b7ba0ee968",
   "metadata": {},
   "source": [
    "## NumPy Math Functions"
   ]
  },
  {
   "cell_type": "code",
   "execution_count": 1,
   "id": "55bcdf78-b91f-4faf-b41d-3cde7effc76c",
   "metadata": {},
   "outputs": [],
   "source": [
    "import numpy as np "
   ]
  },
  {
   "cell_type": "code",
   "execution_count": 2,
   "id": "17612b91-7b64-4ede-a2a4-61ffcae2d43b",
   "metadata": {},
   "outputs": [
    {
     "data": {
      "text/plain": [
       "array([[69, 14, 68],\n",
       "       [14, 32, 22],\n",
       "       [74, 72, 12]])"
      ]
     },
     "execution_count": 2,
     "metadata": {},
     "output_type": "execute_result"
    }
   ],
   "source": [
    "arr = np.random.randint(10,99,[3,3])\n",
    "arr"
   ]
  },
  {
   "cell_type": "markdown",
   "id": "468adb7b-f6d7-44a3-b874-da4a8f9a0738",
   "metadata": {},
   "source": [
    "### Element-wise addition, subtraction, multiplication and division"
   ]
  },
  {
   "cell_type": "code",
   "execution_count": 3,
   "id": "4327e3a1-c876-4d53-8224-5316ab347210",
   "metadata": {},
   "outputs": [
    {
     "name": "stdout",
     "output_type": "stream",
     "text": [
      "Addition:\n",
      "[[79 24 78]\n",
      " [24 42 32]\n",
      " [84 82 22]]\n",
      "\n",
      "subtraction:\n",
      "[[59  4 58]\n",
      " [ 4 22 12]\n",
      " [64 62  2]]\n",
      "\n",
      "multiplication:\n",
      "[[690 140 680]\n",
      " [140 320 220]\n",
      " [740 720 120]]\n",
      "\n",
      "division:\n",
      "[[6.9 1.4 6.8]\n",
      " [1.4 3.2 2.2]\n",
      " [7.4 7.2 1.2]]\n"
     ]
    }
   ],
   "source": [
    "print(\"Addition:\")\n",
    "print(arr + 10)\n",
    "print()\n",
    "print(\"subtraction:\")\n",
    "print(arr - 10)\n",
    "print()\n",
    "print(\"multiplication:\")\n",
    "print(arr * 10)\n",
    "print()\n",
    "print(\"division:\")\n",
    "print(arr / 10)"
   ]
  },
  {
   "cell_type": "code",
   "execution_count": 4,
   "id": "39065fd0-d86b-4551-90e8-9ce9f4447b11",
   "metadata": {},
   "outputs": [
    {
     "name": "stdout",
     "output_type": "stream",
     "text": [
      "[ 9 11 13]\n",
      "[1 2 3]\n",
      "[1 4 9]\n"
     ]
    }
   ],
   "source": [
    "# the above operations can be performed using numpy built-in functions\n",
    "# which can save memory as the output can be stored in the original array rather than assigning new memory\n",
    "arr1 = np.array([1,2,3])\n",
    "np.add(arr1, [8,9,10], out=arr1)\n",
    "print(arr1)\n",
    "\n",
    "np.subtract(arr1, [8,9,10], out=arr1)\n",
    "print(arr1)\n",
    "\n",
    "np.multiply(arr1, [1,2,3], out=arr1)\n",
    "print(arr1)"
   ]
  },
  {
   "cell_type": "markdown",
   "id": "702d6bdb-6736-4b68-be25-e391a370538e",
   "metadata": {},
   "source": [
    "### Element-wise exponentiation"
   ]
  },
  {
   "cell_type": "code",
   "execution_count": 5,
   "id": "49f42a6d-65da-44d5-b197-319bc0419557",
   "metadata": {},
   "outputs": [
    {
     "name": "stdout",
     "output_type": "stream",
     "text": [
      "[[9.25378173e+29 1.20260428e+06 3.40427605e+29]\n",
      " [1.20260428e+06 7.89629602e+13 3.58491285e+09]\n",
      " [1.37338298e+32 1.85867175e+31 1.62754791e+05]]\n"
     ]
    }
   ],
   "source": [
    "print(np.exp(arr))"
   ]
  },
  {
   "cell_type": "markdown",
   "id": "b01597cf-6671-4365-aa9b-4d360ecd901b",
   "metadata": {},
   "source": [
    "### Element-wise logorithm"
   ]
  },
  {
   "cell_type": "code",
   "execution_count": 6,
   "id": "93f8892a-ef3d-45a9-8901-320778799069",
   "metadata": {},
   "outputs": [
    {
     "name": "stdout",
     "output_type": "stream",
     "text": [
      "[[4.2341065  2.63905733 4.21950771]\n",
      " [2.63905733 3.4657359  3.09104245]\n",
      " [4.30406509 4.27666612 2.48490665]]\n"
     ]
    }
   ],
   "source": [
    "# natural log\n",
    "print(np.log(arr))      "
   ]
  },
  {
   "cell_type": "code",
   "execution_count": 7,
   "id": "3f8ff1b8-d80a-427f-a2ba-0c97877222c8",
   "metadata": {},
   "outputs": [
    {
     "name": "stdout",
     "output_type": "stream",
     "text": [
      "[[6.10852446 3.80735492 6.08746284]\n",
      " [3.80735492 5.         4.45943162]\n",
      " [6.20945337 6.169925   3.5849625 ]]\n"
     ]
    }
   ],
   "source": [
    "# base 2\n",
    "print(np.log2(arr)) "
   ]
  },
  {
   "cell_type": "code",
   "execution_count": 8,
   "id": "ed0cefaa-8e7a-449c-88fb-a857ea9e8b11",
   "metadata": {},
   "outputs": [
    {
     "name": "stdout",
     "output_type": "stream",
     "text": [
      "[[1.83884909 1.14612804 1.83250891]\n",
      " [1.14612804 1.50514998 1.34242268]\n",
      " [1.86923172 1.8573325  1.07918125]]\n"
     ]
    }
   ],
   "source": [
    "# base 10\n",
    "print(np.log10(arr))"
   ]
  },
  {
   "cell_type": "markdown",
   "id": "4fa57c3b-eaf1-4420-abde-a836b548cabf",
   "metadata": {},
   "source": [
    "### Element-wise square root"
   ]
  },
  {
   "cell_type": "code",
   "execution_count": 9,
   "id": "376d4505-0209-42c7-af04-d7c1249edfd7",
   "metadata": {},
   "outputs": [
    {
     "name": "stdout",
     "output_type": "stream",
     "text": [
      "[[8.30662386 3.74165739 8.24621125]\n",
      " [3.74165739 5.65685425 4.69041576]\n",
      " [8.60232527 8.48528137 3.46410162]]\n"
     ]
    }
   ],
   "source": [
    "print(np.sqrt(arr))"
   ]
  },
  {
   "cell_type": "markdown",
   "id": "dd3e511a-ed7c-4d2c-9959-a25005479bcc",
   "metadata": {},
   "source": [
    "### Element-wise sine and cosine"
   ]
  },
  {
   "cell_type": "code",
   "execution_count": 10,
   "id": "ff163f98-45b7-4b5d-b3aa-57c45de89cc6",
   "metadata": {},
   "outputs": [
    {
     "name": "stdout",
     "output_type": "stream",
     "text": [
      "[[-0.11478481  0.99060736 -0.89792768]\n",
      " [ 0.99060736  0.55142668 -0.00885131]\n",
      " [-0.98514626  0.25382336 -0.53657292]]\n"
     ]
    }
   ],
   "source": [
    "print(np.sin(arr))"
   ]
  },
  {
   "cell_type": "code",
   "execution_count": 11,
   "id": "19993b01-9a21-4bc7-b802-9adb7605ce6d",
   "metadata": {},
   "outputs": [
    {
     "name": "stdout",
     "output_type": "stream",
     "text": [
      "[[-0.11478481  0.99060736 -0.89792768]\n",
      " [ 0.99060736  0.55142668 -0.00885131]\n",
      " [-0.98514626  0.25382336 -0.53657292]]\n"
     ]
    }
   ],
   "source": [
    "print(np.sin(arr))"
   ]
  },
  {
   "cell_type": "markdown",
   "id": "6402a84e-4251-446f-945c-f48fd1b039a4",
   "metadata": {},
   "source": [
    "### Sum along a specified axis"
   ]
  },
  {
   "cell_type": "code",
   "execution_count": 12,
   "id": "aa202fd0-0cb5-4c00-b58a-042159884ce2",
   "metadata": {},
   "outputs": [
    {
     "data": {
      "text/plain": [
       "array([[69, 14, 68],\n",
       "       [14, 32, 22],\n",
       "       [74, 72, 12]])"
      ]
     },
     "execution_count": 12,
     "metadata": {},
     "output_type": "execute_result"
    }
   ],
   "source": [
    "arr"
   ]
  },
  {
   "cell_type": "code",
   "execution_count": 13,
   "id": "917a99e8-0d3a-46f1-9e81-f865f31b3d82",
   "metadata": {},
   "outputs": [
    {
     "name": "stdout",
     "output_type": "stream",
     "text": [
      "[157 118 102]\n"
     ]
    }
   ],
   "source": [
    "# sum along the row\n",
    "print(np.sum(arr, axis=0))"
   ]
  },
  {
   "cell_type": "code",
   "execution_count": 14,
   "id": "ffe1a664-30a9-4156-a93d-529326a8f6cb",
   "metadata": {},
   "outputs": [
    {
     "name": "stdout",
     "output_type": "stream",
     "text": [
      "[151  68 158]\n"
     ]
    }
   ],
   "source": [
    "# sum along the column\n",
    "print(np.sum(arr, axis=1)) "
   ]
  },
  {
   "cell_type": "markdown",
   "id": "ebcf8133-094c-4613-9464-9fe7e8e50e40",
   "metadata": {},
   "source": [
    "### Compute the min and max along a specified axis"
   ]
  },
  {
   "cell_type": "code",
   "execution_count": 15,
   "id": "c1a6e84b-b6c5-4b60-a6b4-c0a22b818d3b",
   "metadata": {},
   "outputs": [
    {
     "data": {
      "text/plain": [
       "array([[69, 14, 68],\n",
       "       [14, 32, 22],\n",
       "       [74, 72, 12]])"
      ]
     },
     "execution_count": 15,
     "metadata": {},
     "output_type": "execute_result"
    }
   ],
   "source": [
    "arr"
   ]
  },
  {
   "cell_type": "code",
   "execution_count": 16,
   "id": "200080b3-1ba8-41dc-9b26-9164d565e37a",
   "metadata": {},
   "outputs": [
    {
     "name": "stdout",
     "output_type": "stream",
     "text": [
      "[14 14 12]\n"
     ]
    }
   ],
   "source": [
    "# calculate min along the row\n",
    "print(np.min(arr, axis=0))"
   ]
  },
  {
   "cell_type": "code",
   "execution_count": 17,
   "id": "dec351b5-ac7f-4697-8627-4608be180d33",
   "metadata": {},
   "outputs": [
    {
     "name": "stdout",
     "output_type": "stream",
     "text": [
      "[69 32 74]\n"
     ]
    }
   ],
   "source": [
    "# calculate max along the column\n",
    "print(np.max(arr, axis=1)) "
   ]
  },
  {
   "cell_type": "code",
   "execution_count": 18,
   "id": "17b7fd38-6b9d-4512-a486-4fd7f3180f4e",
   "metadata": {},
   "outputs": [
    {
     "name": "stdout",
     "output_type": "stream",
     "text": [
      "74\n",
      "12\n"
     ]
    }
   ],
   "source": [
    "# if axis not specified, calculate the max/min value of all elements\n",
    "print(np.max(arr))\n",
    "print(np.min(arr))"
   ]
  },
  {
   "cell_type": "markdown",
   "id": "a21b8ef3-2321-4dcb-8b38-89cc65fcd436",
   "metadata": {},
   "source": [
    "### Compute the indices of the min and max along a specified axis"
   ]
  },
  {
   "cell_type": "code",
   "execution_count": 19,
   "id": "dd2d3146-3850-40da-a3b4-a85b55595d72",
   "metadata": {},
   "outputs": [
    {
     "data": {
      "text/plain": [
       "array([[69, 14, 68],\n",
       "       [14, 32, 22],\n",
       "       [74, 72, 12]])"
      ]
     },
     "execution_count": 19,
     "metadata": {},
     "output_type": "execute_result"
    }
   ],
   "source": [
    "arr"
   ]
  },
  {
   "cell_type": "code",
   "execution_count": 20,
   "id": "87993870-4652-4775-aa1d-0b94a950356f",
   "metadata": {},
   "outputs": [
    {
     "name": "stdout",
     "output_type": "stream",
     "text": [
      "[1 0 2]\n",
      "[2 2 0]\n"
     ]
    }
   ],
   "source": [
    "# along the row\n",
    "print(np.argmin(arr, axis=0))\n",
    "print(np.argmax(arr, axis=0))"
   ]
  },
  {
   "cell_type": "code",
   "execution_count": 21,
   "id": "59db302a-cffb-4df5-9f26-ec5b276329a3",
   "metadata": {},
   "outputs": [
    {
     "name": "stdout",
     "output_type": "stream",
     "text": [
      "[1 0 2]\n",
      "[0 1 0]\n"
     ]
    }
   ],
   "source": [
    "# along the column\n",
    "print(np.argmin(arr, axis=1))\n",
    "print(np.argmax(arr, axis=1))"
   ]
  },
  {
   "cell_type": "code",
   "execution_count": 22,
   "id": "c8051c4f-ca88-4a02-a1f6-30babda470a6",
   "metadata": {},
   "outputs": [
    {
     "name": "stdout",
     "output_type": "stream",
     "text": [
      "8\n",
      "6\n"
     ]
    }
   ],
   "source": [
    "# if axis not specified, return the index of the flattened array\n",
    "print(np.argmin(arr))\n",
    "print(np.argmax(arr))"
   ]
  },
  {
   "cell_type": "markdown",
   "id": "6c68ac27-36ed-480a-8363-35aaa00d21a0",
   "metadata": {},
   "source": [
    "### Compute element-wise min and max of two arrays"
   ]
  },
  {
   "cell_type": "code",
   "execution_count": 23,
   "id": "24dcb85e-f47c-41cc-a19a-102f0d15c221",
   "metadata": {},
   "outputs": [
    {
     "name": "stdout",
     "output_type": "stream",
     "text": [
      "[1 4 5 8 9]\n",
      "[0 3 3 7 7]\n"
     ]
    }
   ],
   "source": [
    "arr1 = np.array([1, 3, 5, 7, 9])\n",
    "arr2 = np.array([0, 4, 3, 8, 7])\n",
    "print(np.maximum(arr1, arr2))\n",
    "print(np.minimum(arr1, arr2))"
   ]
  },
  {
   "cell_type": "markdown",
   "id": "453cb92b-dcf1-4788-af83-ddf7fe6f0279",
   "metadata": {},
   "source": [
    "### Split fractional and integral parts of a floating-point array"
   ]
  },
  {
   "cell_type": "code",
   "execution_count": 24,
   "id": "f8585ff7-e411-47bd-b5ae-01626822fc5a",
   "metadata": {},
   "outputs": [
    {
     "name": "stdout",
     "output_type": "stream",
     "text": [
      "fractional:  [0.8456248  0.4305235  0.37524886 0.90883506 0.22210204 0.34491899\n",
      " 0.44890445 0.52783797 0.5489963  0.26878722]\n",
      "integral:  [5. 8. 8. 3. 7. 6. 2. 9. 1. 5.]\n"
     ]
    }
   ],
   "source": [
    "arr1 = np.random.rand(10) * 10\n",
    "re, intg = np.modf(arr1)\n",
    "print('fractional: ', re)\n",
    "print('integral: ', intg)"
   ]
  },
  {
   "cell_type": "markdown",
   "id": "f2c5a2ee-251d-4985-90da-2eae3b36c896",
   "metadata": {},
   "source": [
    "### Compute the mean"
   ]
  },
  {
   "cell_type": "code",
   "execution_count": 25,
   "id": "49512031-0626-4a95-9fc7-e0ede40cc626",
   "metadata": {},
   "outputs": [
    {
     "data": {
      "text/plain": [
       "array([[69, 14, 68],\n",
       "       [14, 32, 22],\n",
       "       [74, 72, 12]])"
      ]
     },
     "execution_count": 25,
     "metadata": {},
     "output_type": "execute_result"
    }
   ],
   "source": [
    "arr"
   ]
  },
  {
   "cell_type": "code",
   "execution_count": 26,
   "id": "669bf61b-386c-415f-8e08-eb7c57d5724a",
   "metadata": {},
   "outputs": [
    {
     "name": "stdout",
     "output_type": "stream",
     "text": [
      "41.888888888888886\n"
     ]
    }
   ],
   "source": [
    "# compute the overall mean\n",
    "print(np.mean(arr))"
   ]
  },
  {
   "cell_type": "code",
   "execution_count": 27,
   "id": "5e241b81-120c-458e-90cf-1e7246d240a1",
   "metadata": {},
   "outputs": [
    {
     "name": "stdout",
     "output_type": "stream",
     "text": [
      "[52.33333333 39.33333333 34.        ]\n"
     ]
    }
   ],
   "source": [
    "# compute the mean along the row\n",
    "print(np.mean(arr, axis=0)) "
   ]
  },
  {
   "cell_type": "code",
   "execution_count": 28,
   "id": "0064313b-28a1-420f-bc45-1c789ef3c9c6",
   "metadata": {},
   "outputs": [
    {
     "name": "stdout",
     "output_type": "stream",
     "text": [
      "[50.33333333 22.66666667 52.66666667]\n"
     ]
    }
   ],
   "source": [
    "# compute the mean along the column\n",
    "print(np.mean(arr, axis=1))"
   ]
  },
  {
   "cell_type": "markdown",
   "id": "6e6b23d6-01fe-430f-9793-a3776902fa2b",
   "metadata": {},
   "source": [
    "### Compute the median"
   ]
  },
  {
   "cell_type": "code",
   "execution_count": 29,
   "id": "7ea1b723-08da-4eb9-8d65-bd5e668809a1",
   "metadata": {},
   "outputs": [
    {
     "data": {
      "text/plain": [
       "array([[69, 14, 68],\n",
       "       [14, 32, 22],\n",
       "       [74, 72, 12]])"
      ]
     },
     "execution_count": 29,
     "metadata": {},
     "output_type": "execute_result"
    }
   ],
   "source": [
    "arr"
   ]
  },
  {
   "cell_type": "code",
   "execution_count": 30,
   "id": "0fdd06bc-7993-4e8d-a996-4a867019f709",
   "metadata": {},
   "outputs": [
    {
     "name": "stdout",
     "output_type": "stream",
     "text": [
      "32.0\n"
     ]
    }
   ],
   "source": [
    "# compute the overall median\n",
    "print(np.median(arr))\n"
   ]
  },
  {
   "cell_type": "code",
   "execution_count": 31,
   "id": "6672ad32-2824-4120-baea-1a87cf03e415",
   "metadata": {},
   "outputs": [
    {
     "name": "stdout",
     "output_type": "stream",
     "text": [
      "[69. 32. 22.]\n"
     ]
    }
   ],
   "source": [
    "# compute the median along the row\n",
    "print(np.median(arr, axis=0)) "
   ]
  },
  {
   "cell_type": "code",
   "execution_count": 32,
   "id": "b2337bba-27fe-4ec6-9fe6-5a4760bb0c6c",
   "metadata": {},
   "outputs": [
    {
     "name": "stdout",
     "output_type": "stream",
     "text": [
      "[68. 22. 72.]\n"
     ]
    }
   ],
   "source": [
    "# compute the median along the column\n",
    "print(np.median(arr, axis=1))"
   ]
  },
  {
   "cell_type": "markdown",
   "id": "b492a88d-68a0-48a0-ac92-92a6d2c7072c",
   "metadata": {},
   "source": [
    "### Compute the percentile"
   ]
  },
  {
   "cell_type": "code",
   "execution_count": 33,
   "id": "e9fd6754-c17d-4e6d-9b14-fd20ad13b043",
   "metadata": {},
   "outputs": [
    {
     "name": "stdout",
     "output_type": "stream",
     "text": [
      "[0.05227606 0.64279742 0.9579327 ]\n"
     ]
    }
   ],
   "source": [
    "arr1 = np.random.rand(100)\n",
    "# compute 5, 65, and 95 percentiles of the array\n",
    "print(np.percentile(arr1, [5, 65, 95]))"
   ]
  },
  {
   "cell_type": "markdown",
   "id": "e71844d7-e1c9-4b57-baf4-4edf23d594b8",
   "metadata": {},
   "source": [
    "### Compute the standard deviation & variance\n"
   ]
  },
  {
   "cell_type": "code",
   "execution_count": 34,
   "id": "f2310a32-fe30-45bf-88f3-1bf0e6825973",
   "metadata": {},
   "outputs": [
    {
     "data": {
      "text/plain": [
       "array([[69, 14, 68],\n",
       "       [14, 32, 22],\n",
       "       [74, 72, 12]])"
      ]
     },
     "execution_count": 34,
     "metadata": {},
     "output_type": "execute_result"
    }
   ],
   "source": [
    "arr"
   ]
  },
  {
   "cell_type": "code",
   "execution_count": 35,
   "id": "354ec33e-8c46-4f75-b9c5-ec1584e62312",
   "metadata": {},
   "outputs": [
    {
     "name": "stdout",
     "output_type": "stream",
     "text": [
      "26.450979584651574\n"
     ]
    }
   ],
   "source": [
    "# compute the overall standard deviation\n",
    "print(np.std(arr))"
   ]
  },
  {
   "cell_type": "code",
   "execution_count": 36,
   "id": "67d278d9-42a3-4c04-937c-50eedd2051e5",
   "metadata": {},
   "outputs": [
    {
     "name": "stdout",
     "output_type": "stream",
     "text": [
      "[27.18251072 24.23954528 24.38578821]\n"
     ]
    }
   ],
   "source": [
    "# compute the standard deviation along the row\n",
    "print(np.std(arr, axis=0))\n"
   ]
  },
  {
   "cell_type": "code",
   "execution_count": 37,
   "id": "b88861ae-c9f0-4344-ac49-9d1ed64b01a4",
   "metadata": {},
   "outputs": [
    {
     "name": "stdout",
     "output_type": "stream",
     "text": [
      "[25.69478979  7.36357401 28.76726535]\n"
     ]
    }
   ],
   "source": [
    "# compute the standard deviation along the column\n",
    "print(np.std(arr, axis=1))"
   ]
  },
  {
   "cell_type": "code",
   "execution_count": 38,
   "id": "035eb571-cc57-44c9-9d4f-07d2c579bcda",
   "metadata": {},
   "outputs": [
    {
     "name": "stdout",
     "output_type": "stream",
     "text": [
      "699.6543209876543\n"
     ]
    }
   ],
   "source": [
    "# compute the overall variance\n",
    "print(np.var(arr))"
   ]
  },
  {
   "cell_type": "code",
   "execution_count": 39,
   "id": "f6e9f5a2-4f5e-49fd-8681-36decf6b516d",
   "metadata": {},
   "outputs": [
    {
     "name": "stdout",
     "output_type": "stream",
     "text": [
      "[738.88888889 587.55555556 594.66666667]\n"
     ]
    }
   ],
   "source": [
    "# compute the variance along the row\n",
    "print(np.var(arr, axis=0))"
   ]
  },
  {
   "cell_type": "code",
   "execution_count": 40,
   "id": "b90a30fd-0fb9-494b-bb53-c491e4b5d91a",
   "metadata": {},
   "outputs": [
    {
     "name": "stdout",
     "output_type": "stream",
     "text": [
      "[660.22222222  54.22222222 827.55555556]\n"
     ]
    }
   ],
   "source": [
    "# compute the variance along the column\n",
    "print(np.var(arr, axis=1))"
   ]
  },
  {
   "cell_type": "markdown",
   "id": "fec8cacf-99c2-49b5-bf38-c9d78c9045b3",
   "metadata": {},
   "source": [
    "### Compute the covariance & correlation"
   ]
  },
  {
   "cell_type": "code",
   "execution_count": 41,
   "id": "a5b0fdef-2552-4546-9657-9e70009148ee",
   "metadata": {},
   "outputs": [
    {
     "data": {
      "text/plain": [
       "array([[0.85578197, 0.1912857 , 0.08258694, 0.21523796, 0.44194709,\n",
       "        0.03848352, 0.45207058, 0.09666096],\n",
       "       [0.20129621, 0.99163754, 0.39442284, 0.46765553, 0.16372937,\n",
       "        0.28692836, 0.96598719, 0.73284705],\n",
       "       [0.49410928, 0.33697901, 0.06493217, 0.02866009, 0.20984109,\n",
       "        0.43511465, 0.27163863, 0.41319013],\n",
       "       [0.18487542, 0.91187981, 0.81935397, 0.10587005, 0.1407547 ,\n",
       "        0.17978236, 0.29727466, 0.63511701],\n",
       "       [0.26072498, 0.79518426, 0.57867564, 0.58005327, 0.97232982,\n",
       "        0.20186421, 0.54249293, 0.00715393]])"
      ]
     },
     "execution_count": 41,
     "metadata": {},
     "output_type": "execute_result"
    }
   ],
   "source": [
    "arr = np.random.rand(5,8)\n",
    "arr"
   ]
  },
  {
   "cell_type": "code",
   "execution_count": 42,
   "id": "44d7b87d-c81c-493c-9a6a-976e5307a346",
   "metadata": {},
   "outputs": [
    {
     "name": "stdout",
     "output_type": "stream",
     "text": [
      "[[ 0.07544191 -0.02308548  0.01457643 -0.0405498   0.00893206]\n",
      " [-0.02308548  0.10967652  0.00174031  0.06003123  0.00243001]\n",
      " [ 0.01457643  0.00174031  0.02932593 -0.00244123 -0.03096036]\n",
      " [-0.0405498   0.06003123 -0.00244123  0.10735782  0.00507994]\n",
      " [ 0.00893206  0.00243001 -0.03096036  0.00507994  0.10188498]]\n"
     ]
    }
   ],
   "source": [
    "print(np.cov(arr))"
   ]
  },
  {
   "cell_type": "code",
   "execution_count": 43,
   "id": "a81be2a3-cfe2-4d42-8a6d-580bf8b798d9",
   "metadata": {},
   "outputs": [
    {
     "name": "stdout",
     "output_type": "stream",
     "text": [
      "[[ 1.         -0.94115537]\n",
      " [-0.94115537  1.        ]]\n"
     ]
    }
   ],
   "source": [
    "print(np.corrcoef(arr[:,0], arr[:,1]))"
   ]
  },
  {
   "cell_type": "markdown",
   "id": "2c3842c5-0f96-450f-b671-285614adfa7e",
   "metadata": {},
   "source": [
    "### Compute cumulative sum & product"
   ]
  },
  {
   "cell_type": "code",
   "execution_count": 44,
   "id": "fc75cfd1-28bc-4af1-9c1e-ae79c65ae2e9",
   "metadata": {},
   "outputs": [
    {
     "name": "stdout",
     "output_type": "stream",
     "text": [
      "[[0.85578197 0.1912857  0.08258694 0.21523796 0.44194709 0.03848352\n",
      "  0.45207058 0.09666096]\n",
      " [1.05707817 1.18292324 0.47700978 0.68289349 0.60567646 0.32541188\n",
      "  1.41805777 0.82950801]\n",
      " [1.55118746 1.51990224 0.54194195 0.71155358 0.81551755 0.76052653\n",
      "  1.68969641 1.24269813]\n",
      " [1.73606287 2.43178205 1.36129592 0.81742363 0.95627225 0.94030889\n",
      "  1.98697107 1.87781515]\n",
      " [1.99678785 3.22696631 1.93997156 1.3974769  1.92860207 1.1421731\n",
      "  2.52946399 1.88496908]]\n"
     ]
    }
   ],
   "source": [
    "# calculate the cumulative sums along the row\n",
    "print(np.cumsum(arr, axis=0))"
   ]
  },
  {
   "cell_type": "code",
   "execution_count": 45,
   "id": "23884d17-7dc9-4d9c-b8d3-df967079b92a",
   "metadata": {},
   "outputs": [
    {
     "name": "stdout",
     "output_type": "stream",
     "text": [
      "[[0.85578197 1.04706766 1.1296546  1.34489256 1.78683965 1.82532318\n",
      "  2.27739376 2.37405472]\n",
      " [0.20129621 1.19293375 1.58735659 2.05501212 2.21874149 2.50566984\n",
      "  3.47165703 4.20450408]\n",
      " [0.49410928 0.83108829 0.89602046 0.92468054 1.13452163 1.56963628\n",
      "  1.84127491 2.25446504]\n",
      " [0.18487542 1.09675523 1.9161092  2.02197925 2.16273395 2.34251632\n",
      "  2.63979098 3.27490799]\n",
      " [0.26072498 1.05590923 1.63458487 2.21463814 3.18696796 3.38883217\n",
      "  3.93132509 3.93847903]]\n"
     ]
    }
   ],
   "source": [
    "# calculate the cumulative sums along the column\n",
    "print(np.cumsum(arr, axis=1)) "
   ]
  },
  {
   "cell_type": "code",
   "execution_count": 46,
   "id": "ead6b23e-a913-4eec-9a3c-0c0f95d767d8",
   "metadata": {},
   "outputs": [
    {
     "name": "stdout",
     "output_type": "stream",
     "text": [
      "[[8.55781965e-01 1.91285699e-01 8.25869396e-02 2.15237959e-01\n",
      "  4.41947092e-01 3.84835237e-02 4.52070584e-01 9.66609576e-02]\n",
      " [1.72265665e-01 1.89686079e-01 3.25741753e-02 1.00657222e-01\n",
      "  7.23597176e-02 1.10420142e-02 4.36694392e-01 7.08376977e-02]\n",
      " [8.51180641e-02 6.39202267e-02 2.11511175e-03 2.88484487e-03\n",
      "  1.51840418e-02 4.80454211e-03 1.18623068e-01 2.92694372e-02]\n",
      " [1.57362377e-02 5.82875642e-02 1.73302521e-03 3.05418667e-04\n",
      "  2.13722531e-03 8.63771929e-04 3.52636324e-02 1.85895175e-02]\n",
      " [4.10283019e-03 4.63493535e-02 1.00285947e-03 1.77159096e-04\n",
      "  2.07808790e-03 1.74364635e-04 1.91302711e-02 1.32988183e-04]]\n"
     ]
    }
   ],
   "source": [
    "# calculate the cumulative product along the row\n",
    "print(np.cumprod(arr, axis=0))"
   ]
  },
  {
   "cell_type": "code",
   "execution_count": 47,
   "id": "6606a2a9-fd9d-4b64-8b3c-a6d962182a4b",
   "metadata": {},
   "outputs": [
    {
     "name": "stdout",
     "output_type": "stream",
     "text": [
      "[[8.55781965e-01 1.63698851e-01 1.35193871e-02 2.90988529e-03\n",
      "  1.28601534e-03 4.94904018e-05 2.23731549e-05 2.16261057e-06]\n",
      " [2.01296209e-01 1.99612877e-01 7.87318777e-02 3.68193982e-02\n",
      "  6.02841676e-03 1.72972371e-03 1.67089094e-03 1.22450750e-03]\n",
      " [4.94109282e-01 1.66504456e-01 1.08114949e-02 3.09858399e-04\n",
      "  6.50210231e-05 2.82915995e-05 7.68509145e-06 3.17540390e-06]\n",
      " [1.84875418e-01 1.68584161e-01 1.38130102e-01 1.46238406e-02\n",
      "  2.05837436e-03 3.70059404e-04 1.10009284e-04 6.98687678e-05]\n",
      " [2.60724976e-01 2.07324397e-01 1.19973577e-01 6.95910657e-02\n",
      "  6.76654684e-02 1.36592361e-02 7.41003896e-03 5.30109303e-05]]\n"
     ]
    }
   ],
   "source": [
    "# calculate the cumulative product along the column\n",
    "print(np.cumprod(arr, axis=1))"
   ]
  },
  {
   "cell_type": "markdown",
   "id": "1e3e67bf-13f0-4094-ab27-dc819c21208c",
   "metadata": {},
   "source": [
    "### Element-wise comparison"
   ]
  },
  {
   "cell_type": "code",
   "execution_count": 48,
   "id": "5d0ce3d3-6198-4932-9f49-3194250c5a2a",
   "metadata": {},
   "outputs": [],
   "source": [
    "arr1 = np.array([1,2,3,4,5])\n",
    "arr2 = np.array([5,4,3,2,1])"
   ]
  },
  {
   "cell_type": "code",
   "execution_count": 49,
   "id": "84a6cfea-4f10-474a-af58-259c11c50929",
   "metadata": {},
   "outputs": [
    {
     "name": "stdout",
     "output_type": "stream",
     "text": [
      "[False False  True False False]\n",
      "[ True  True False False False]\n"
     ]
    }
   ],
   "source": [
    "# return an array of bools\n",
    "print(arr1 == arr2)    \n",
    "print(arr1 < 3)\n"
   ]
  },
  {
   "cell_type": "code",
   "execution_count": null,
   "id": "fd95af86-d175-4d5f-8cd5-5ec440317219",
   "metadata": {},
   "outputs": [],
   "source": []
  },
  {
   "cell_type": "code",
   "execution_count": null,
   "id": "38d13a48-fa29-424a-bba4-9f5a3af37703",
   "metadata": {},
   "outputs": [],
   "source": []
  },
  {
   "cell_type": "code",
   "execution_count": null,
   "id": "57de308f-2515-4bbe-8ac1-9bfab5a40158",
   "metadata": {},
   "outputs": [],
   "source": []
  },
  {
   "cell_type": "code",
   "execution_count": null,
   "id": "8ba62f95-bba2-4777-b61f-6b54f1404758",
   "metadata": {},
   "outputs": [],
   "source": []
  }
 ],
 "metadata": {
  "kernelspec": {
   "display_name": "Python 3 (ipykernel)",
   "language": "python",
   "name": "python3"
  },
  "language_info": {
   "codemirror_mode": {
    "name": "ipython",
    "version": 3
   },
   "file_extension": ".py",
   "mimetype": "text/x-python",
   "name": "python",
   "nbconvert_exporter": "python",
   "pygments_lexer": "ipython3",
   "version": "3.12.0"
  }
 },
 "nbformat": 4,
 "nbformat_minor": 5
}
