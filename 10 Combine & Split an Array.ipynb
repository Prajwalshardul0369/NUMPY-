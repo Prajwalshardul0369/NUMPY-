{
 "cells": [
  {
   "cell_type": "markdown",
   "id": "2a4deeaa-2439-499b-8e2f-993a087bc4f1",
   "metadata": {},
   "source": [
    "##  Combine & Split an Array"
   ]
  },
  {
   "cell_type": "code",
   "execution_count": 1,
   "id": "b37e3455-f5ce-4e9c-a288-b9059dea64c6",
   "metadata": {},
   "outputs": [],
   "source": [
    "import numpy as np"
   ]
  },
  {
   "cell_type": "code",
   "execution_count": 2,
   "id": "3d17de3f-09d6-4b0b-9e3e-2f6557488556",
   "metadata": {},
   "outputs": [],
   "source": [
    "arr1 = np.array([[1,2,3,4], [1,2,3,4]])\n",
    "arr2 = np.array([[5,6,7,8], [5,6,7,8]])"
   ]
  },
  {
   "cell_type": "markdown",
   "id": "ef49a7e1-9f86-4fe9-81b0-f02c7b94a5ea",
   "metadata": {},
   "source": [
    "### np.concatenate((a, b), axis=0)"
   ]
  },
  {
   "cell_type": "code",
   "execution_count": 3,
   "id": "bddb383d-bdbd-4cd8-8987-ca8f7646969c",
   "metadata": {},
   "outputs": [
    {
     "data": {
      "text/plain": [
       "array([[1, 2, 3, 4],\n",
       "       [1, 2, 3, 4]])"
      ]
     },
     "execution_count": 3,
     "metadata": {},
     "output_type": "execute_result"
    }
   ],
   "source": [
    "arr1"
   ]
  },
  {
   "cell_type": "code",
   "execution_count": 4,
   "id": "3d9b9c6c-8484-4572-ae13-d2b6615d1ba8",
   "metadata": {},
   "outputs": [
    {
     "data": {
      "text/plain": [
       "array([[5, 6, 7, 8],\n",
       "       [5, 6, 7, 8]])"
      ]
     },
     "execution_count": 4,
     "metadata": {},
     "output_type": "execute_result"
    }
   ],
   "source": [
    "arr2"
   ]
  },
  {
   "cell_type": "code",
   "execution_count": 5,
   "id": "14e43afa-c070-4df4-ab7d-60a1caf1f51e",
   "metadata": {},
   "outputs": [
    {
     "name": "stdout",
     "output_type": "stream",
     "text": [
      "[[1 2 3 4 5 6 7 8]\n",
      " [1 2 3 4 5 6 7 8]]\n"
     ]
    }
   ],
   "source": [
    "# concat along the row\n",
    "var = np.concatenate((arr1, arr2), axis=1)        \n",
    "print(var)"
   ]
  },
  {
   "cell_type": "code",
   "execution_count": 6,
   "id": "aafd9f18-210a-47a3-bd44-e86357695f8c",
   "metadata": {},
   "outputs": [
    {
     "name": "stdout",
     "output_type": "stream",
     "text": [
      "[[1 2 3 4]\n",
      " [1 2 3 4]\n",
      " [5 6 7 8]\n",
      " [5 6 7 8]]\n"
     ]
    }
   ],
   "source": [
    "var = np.concatenate((arr1, arr2), axis=0)        \n",
    "print(var)"
   ]
  },
  {
   "cell_type": "markdown",
   "id": "6524f4f1-66be-4851-8875-c1f423396685",
   "metadata": {},
   "source": [
    "##### Stacking: np.hstack() and n.vstack()\n",
    "Stacking is done using the np.hstack() and np.vstack() methods. For horizontal stacking, the number of rows should be the same, while for vertical stacking, the number of columns should be the same"
   ]
  },
  {
   "cell_type": "code",
   "execution_count": 7,
   "id": "99fef8a6-334b-4cf9-b3f1-fc0618438820",
   "metadata": {},
   "outputs": [
    {
     "name": "stdout",
     "output_type": "stream",
     "text": [
      "[[1 2 3 4]\n",
      " [1 2 3 4]\n",
      " [5 6 7 8]\n",
      " [5 6 7 8]]\n"
     ]
    }
   ],
   "source": [
    "# stack arrays vertically\n",
    "cat = np.vstack((arr1, arr2))\n",
    "print(cat)"
   ]
  },
  {
   "cell_type": "code",
   "execution_count": 8,
   "id": "f4dcfd85-f71b-4c11-9613-b28a1c11ed8d",
   "metadata": {},
   "outputs": [
    {
     "name": "stdout",
     "output_type": "stream",
     "text": [
      "[[1 2 3 4]\n",
      " [1 2 3 4]\n",
      " [5 6 7 8]\n",
      " [5 6 7 8]]\n"
     ]
    }
   ],
   "source": [
    "# stack arrays vertically\n",
    "cat = np.r_[arr1, arr2]\n",
    "print(cat)"
   ]
  },
  {
   "cell_type": "markdown",
   "id": "5d1107e1-ae4d-41f1-9155-480c38dfdcc3",
   "metadata": {},
   "source": [
    "#### np.hstack((a, b))\n",
    "#### np.c_[a, b]"
   ]
  },
  {
   "cell_type": "code",
   "execution_count": 9,
   "id": "5d2814b3-5a5e-4ed5-ab06-625d9c90b4b2",
   "metadata": {},
   "outputs": [
    {
     "name": "stdout",
     "output_type": "stream",
     "text": [
      "[[1 2 3 4 5 6 7 8]\n",
      " [1 2 3 4 5 6 7 8]]\n"
     ]
    }
   ],
   "source": [
    "# stack arrays horizontally\n",
    "cat = np.hstack((arr1, arr2))\n",
    "print(cat)"
   ]
  },
  {
   "cell_type": "code",
   "execution_count": 10,
   "id": "750458a1-397c-451c-a79b-cf4a38a34990",
   "metadata": {},
   "outputs": [
    {
     "name": "stdout",
     "output_type": "stream",
     "text": [
      "[[1 2 3 4 5 6 7 8]\n",
      " [1 2 3 4 5 6 7 8]]\n"
     ]
    }
   ],
   "source": [
    "# stack arrays horizontally\n",
    "cat = np.c_[arr1, arr2]\n",
    "print(cat)"
   ]
  },
  {
   "cell_type": "markdown",
   "id": "39d0afc2-4d44-4e52-8b18-7853a65180c1",
   "metadata": {},
   "source": [
    "### split an array"
   ]
  },
  {
   "cell_type": "code",
   "execution_count": 11,
   "id": "36579e05-a2c3-4681-baa9-51e44c8c7698",
   "metadata": {},
   "outputs": [],
   "source": [
    "arr = np.random.rand(6,6)"
   ]
  },
  {
   "cell_type": "code",
   "execution_count": 12,
   "id": "07675366-2b81-4aa4-8842-157fe5226e36",
   "metadata": {},
   "outputs": [
    {
     "name": "stdout",
     "output_type": "stream",
     "text": [
      "[array([[0.43067086, 0.18350019, 0.04572316, 0.28859037, 0.58379952,\n",
      "        0.40173694],\n",
      "       [0.32598131, 0.4222612 , 0.16164641, 0.06659883, 0.06869372,\n",
      "        0.01178626],\n",
      "       [0.74235799, 0.80945154, 0.47465227, 0.76440984, 0.53403878,\n",
      "        0.92477211]]), array([[0.28057761, 0.67117552, 0.79138938, 0.11590671, 0.36590313,\n",
      "        0.11777084],\n",
      "       [0.63507842, 0.54770237, 0.84461002, 0.17446167, 0.72195411,\n",
      "        0.74032883],\n",
      "       [0.98738879, 0.2915008 , 0.42680535, 0.34520911, 0.29157001,\n",
      "        0.73830483]])]\n"
     ]
    }
   ],
   "source": [
    "# split the array vertically into n evenly spaced chunks\n",
    "arr1 = np.vsplit(arr, 2)\n",
    "print(arr1)"
   ]
  },
  {
   "cell_type": "code",
   "execution_count": 13,
   "id": "41f92437-92ae-47c1-8ab6-fbcf4a3ce3ae",
   "metadata": {
    "scrolled": true
   },
   "outputs": [
    {
     "name": "stdout",
     "output_type": "stream",
     "text": [
      "[array([[0.43067086, 0.18350019, 0.04572316],\n",
      "       [0.32598131, 0.4222612 , 0.16164641],\n",
      "       [0.74235799, 0.80945154, 0.47465227],\n",
      "       [0.28057761, 0.67117552, 0.79138938],\n",
      "       [0.63507842, 0.54770237, 0.84461002],\n",
      "       [0.98738879, 0.2915008 , 0.42680535]]), array([[0.28859037, 0.58379952, 0.40173694],\n",
      "       [0.06659883, 0.06869372, 0.01178626],\n",
      "       [0.76440984, 0.53403878, 0.92477211],\n",
      "       [0.11590671, 0.36590313, 0.11777084],\n",
      "       [0.17446167, 0.72195411, 0.74032883],\n",
      "       [0.34520911, 0.29157001, 0.73830483]])]\n"
     ]
    }
   ],
   "source": [
    "# split the array horizontally into n evenly spaced chunks\n",
    "arr2 = np.hsplit(arr, 2)\n",
    "print(arr2)"
   ]
  },
  {
   "cell_type": "code",
   "execution_count": null,
   "id": "a2c6a942-40e6-4905-ba38-f4abcc3bfe8f",
   "metadata": {},
   "outputs": [],
   "source": []
  },
  {
   "cell_type": "code",
   "execution_count": null,
   "id": "c0deed11-2262-4218-88a1-cd9c7fffe0b8",
   "metadata": {},
   "outputs": [],
   "source": []
  }
 ],
 "metadata": {
  "kernelspec": {
   "display_name": "Python 3 (ipykernel)",
   "language": "python",
   "name": "python3"
  },
  "language_info": {
   "codemirror_mode": {
    "name": "ipython",
    "version": 3
   },
   "file_extension": ".py",
   "mimetype": "text/x-python",
   "name": "python",
   "nbconvert_exporter": "python",
   "pygments_lexer": "ipython3",
   "version": "3.12.0"
  }
 },
 "nbformat": 4,
 "nbformat_minor": 5
}
