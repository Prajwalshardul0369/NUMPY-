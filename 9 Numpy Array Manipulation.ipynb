{
 "cells": [
  {
   "cell_type": "markdown",
   "id": "c1296393-c501-406e-8fba-261634033b31",
   "metadata": {},
   "source": [
    "## Numpy Array Manipulation"
   ]
  },
  {
   "cell_type": "code",
   "execution_count": 1,
   "id": "c96b6835-2084-4845-97ea-eafea8f3c1ec",
   "metadata": {},
   "outputs": [],
   "source": [
    "import numpy as np"
   ]
  },
  {
   "cell_type": "code",
   "execution_count": 2,
   "id": "db8228d2-71a5-4386-99fa-25f4898c759a",
   "metadata": {},
   "outputs": [
    {
     "data": {
      "text/plain": [
       "array([[7, 2, 5],\n",
       "       [6, 9, 3],\n",
       "       [2, 9, 1]])"
      ]
     },
     "execution_count": 2,
     "metadata": {},
     "output_type": "execute_result"
    }
   ],
   "source": [
    "arr = np.random.randint(1,10,[3,3])\n",
    "arr"
   ]
  },
  {
   "cell_type": "markdown",
   "id": "3731145d-750b-41c5-accb-0a16c7391c1f",
   "metadata": {},
   "source": [
    "### Transpose an array"
   ]
  },
  {
   "cell_type": "code",
   "execution_count": 3,
   "id": "bb823812-b3fe-4f95-9542-d7a6a107069a",
   "metadata": {},
   "outputs": [
    {
     "name": "stdout",
     "output_type": "stream",
     "text": [
      "[[7 6 2]\n",
      " [2 9 9]\n",
      " [5 3 1]]\n"
     ]
    }
   ],
   "source": [
    "print(arr.T)"
   ]
  },
  {
   "cell_type": "markdown",
   "id": "d85da493-4dcd-4362-b065-c16b8d560fa3",
   "metadata": {},
   "source": [
    "### OR"
   ]
  },
  {
   "cell_type": "code",
   "execution_count": 5,
   "id": "e614089b-d972-426d-8d8c-23ced8fe7cf5",
   "metadata": {},
   "outputs": [
    {
     "name": "stdout",
     "output_type": "stream",
     "text": [
      "[[7 6 2]\n",
      " [2 9 9]\n",
      " [5 3 1]]\n"
     ]
    }
   ],
   "source": [
    "print(np.transpose(arr))"
   ]
  },
  {
   "cell_type": "markdown",
   "id": "b09c33aa-985a-4082-b907-bf15797eb4d3",
   "metadata": {},
   "source": [
    "### OR"
   ]
  },
  {
   "cell_type": "code",
   "execution_count": 6,
   "id": "9e3e92f3-4bee-491c-a21d-ac3a40a62e5d",
   "metadata": {},
   "outputs": [
    {
     "name": "stdout",
     "output_type": "stream",
     "text": [
      "[[7 6 2]\n",
      " [2 9 9]\n",
      " [5 3 1]]\n"
     ]
    }
   ],
   "source": [
    "print(arr.transpose())"
   ]
  },
  {
   "cell_type": "markdown",
   "id": "2e4a95ff-5c04-41aa-96b1-bac2599e16db",
   "metadata": {},
   "source": [
    "#### numpy.swapaxes() function interchange two axes of an array."
   ]
  },
  {
   "cell_type": "markdown",
   "id": "5877ec9a-2ad8-4b2e-bf92-2f25a0a7556e",
   "metadata": {},
   "source": [
    "* Syntax : numpy.swapaxes(arr, axis1, axis2)"
   ]
  },
  {
   "cell_type": "code",
   "execution_count": 7,
   "id": "fb4ee7d9-f1eb-4347-83c6-5d457fcd7a13",
   "metadata": {},
   "outputs": [
    {
     "data": {
      "text/plain": [
       "array([[2, 4, 6]])"
      ]
     },
     "execution_count": 7,
     "metadata": {},
     "output_type": "execute_result"
    }
   ],
   "source": [
    "arr1 = np.array([[2, 4, 6]])\n",
    "arr1"
   ]
  },
  {
   "cell_type": "code",
   "execution_count": 8,
   "id": "2735252c-62cd-497a-8c4b-1a5a5fe222de",
   "metadata": {},
   "outputs": [
    {
     "data": {
      "text/plain": [
       "array([[2],\n",
       "       [4],\n",
       "       [6]])"
      ]
     },
     "execution_count": 8,
     "metadata": {},
     "output_type": "execute_result"
    }
   ],
   "source": [
    "np.swapaxes(arr1, 0, 1)"
   ]
  },
  {
   "cell_type": "markdown",
   "id": "deaf5203-c4de-405d-bd11-0b82982371c9",
   "metadata": {},
   "source": [
    "### 3D Array"
   ]
  },
  {
   "cell_type": "code",
   "execution_count": 9,
   "id": "5d4a45da-16eb-4d7b-971b-b051a030a18e",
   "metadata": {},
   "outputs": [
    {
     "data": {
      "text/plain": [
       "array([[[ 0,  1,  2,  3],\n",
       "        [ 4,  5,  6,  7]],\n",
       "\n",
       "       [[ 8,  9, 10, 11],\n",
       "        [12, 13, 14, 15]]])"
      ]
     },
     "execution_count": 9,
     "metadata": {},
     "output_type": "execute_result"
    }
   ],
   "source": [
    "arr1 = np.arange(16).reshape((2,2,4))\n",
    "arr1"
   ]
  },
  {
   "cell_type": "code",
   "execution_count": 10,
   "id": "035e3efa-ff9a-44fc-af4a-9e1b6437f67a",
   "metadata": {},
   "outputs": [
    {
     "data": {
      "text/plain": [
       "array([[[ 0,  1,  2,  3],\n",
       "        [ 8,  9, 10, 11]],\n",
       "\n",
       "       [[ 4,  5,  6,  7],\n",
       "        [12, 13, 14, 15]]])"
      ]
     },
     "execution_count": 10,
     "metadata": {},
     "output_type": "execute_result"
    }
   ],
   "source": [
    "np.swapaxes(arr1, 0, 1)"
   ]
  },
  {
   "cell_type": "markdown",
   "id": "37eede5f-4bb0-4f12-9ede-8a2df92d8cb1",
   "metadata": {},
   "source": [
    "### Change the shape of an array"
   ]
  },
  {
   "cell_type": "code",
   "execution_count": 11,
   "id": "5c09e2ed-3a37-479c-b6ba-3d305ee0917a",
   "metadata": {},
   "outputs": [
    {
     "data": {
      "text/plain": [
       "array([ 0,  1,  2,  3,  4,  5,  6,  7,  8,  9, 10, 11])"
      ]
     },
     "execution_count": 11,
     "metadata": {},
     "output_type": "execute_result"
    }
   ],
   "source": [
    "# change the shape of an array and return a copy\n",
    "arr = np.arange(12)\n",
    "arr"
   ]
  },
  {
   "cell_type": "code",
   "execution_count": 12,
   "id": "3d7f5a7a-c0b5-4040-9384-238d7ba358c8",
   "metadata": {},
   "outputs": [
    {
     "data": {
      "text/plain": [
       "array([[ 0,  1,  2,  3,  4,  5],\n",
       "       [ 6,  7,  8,  9, 10, 11]])"
      ]
     },
     "execution_count": 12,
     "metadata": {},
     "output_type": "execute_result"
    }
   ],
   "source": [
    "arr.reshape((2,6))"
   ]
  },
  {
   "cell_type": "code",
   "execution_count": 13,
   "id": "2d630aae-2178-48ec-a43b-8d292e798537",
   "metadata": {},
   "outputs": [
    {
     "data": {
      "text/plain": [
       "array([[ 0,  1,  2,  3,  4,  5],\n",
       "       [ 6,  7,  8,  9, 10, 11]])"
      ]
     },
     "execution_count": 13,
     "metadata": {},
     "output_type": "execute_result"
    }
   ],
   "source": [
    "# change the shape of an array in place\n",
    "arr.resize((2,6))\n",
    "arr"
   ]
  },
  {
   "cell_type": "markdown",
   "id": "2f45858b-5c4e-4855-bc9b-57b84fe8bfca",
   "metadata": {},
   "source": [
    "### flatten an arrayflatten an array"
   ]
  },
  {
   "cell_type": "code",
   "execution_count": 14,
   "id": "027274d6-aef4-45aa-92c2-b879da274384",
   "metadata": {},
   "outputs": [
    {
     "data": {
      "text/plain": [
       "array([ 0,  1,  2,  3,  4,  5,  6,  7,  8,  9, 10, 11])"
      ]
     },
     "execution_count": 14,
     "metadata": {},
     "output_type": "execute_result"
    }
   ],
   "source": [
    "# return a copy\n",
    "arr.flatten() "
   ]
  },
  {
   "cell_type": "code",
   "execution_count": 15,
   "id": "e1c9039e-5bca-41de-9e39-00b4f753c4e3",
   "metadata": {},
   "outputs": [
    {
     "data": {
      "text/plain": [
       "array([ 0,  1,  2,  3,  4,  5,  6,  7,  8,  9, 10, 11])"
      ]
     },
     "execution_count": 15,
     "metadata": {},
     "output_type": "execute_result"
    }
   ],
   "source": [
    "# return a view\n",
    "# change any element in the view will change the initial array\n",
    "arr.ravel() "
   ]
  },
  {
   "cell_type": "markdown",
   "id": "af4ff5c9-81d2-4b13-a2cd-f2966e0eb6eb",
   "metadata": {},
   "source": [
    "### append elements to an array"
   ]
  },
  {
   "cell_type": "code",
   "execution_count": 16,
   "id": "cd0c567b-40af-4b49-a2d8-cf1e89a5398e",
   "metadata": {},
   "outputs": [],
   "source": [
    "arr = np.array([1,2,3])"
   ]
  },
  {
   "cell_type": "code",
   "execution_count": 17,
   "id": "352071d2-ebbc-47a9-a4fe-9ec179a86189",
   "metadata": {},
   "outputs": [
    {
     "name": "stdout",
     "output_type": "stream",
     "text": [
      "[1 2 3 4]\n"
     ]
    }
   ],
   "source": [
    "# append a scalar and return a copy\n",
    "arr1 = np.append(arr, 4)    \n",
    "print(arr1)"
   ]
  },
  {
   "cell_type": "code",
   "execution_count": 18,
   "id": "6b16b592-2da2-4f05-a159-6737e4e18ed5",
   "metadata": {},
   "outputs": [
    {
     "name": "stdout",
     "output_type": "stream",
     "text": [
      "[1 2 3 4 5 6]\n"
     ]
    }
   ],
   "source": [
    "# append an array and return a copy\n",
    "arr2 = np.append(arr, [4,5,6])    \n",
    "print(arr2)"
   ]
  },
  {
   "cell_type": "markdown",
   "id": "8327daa3-560d-4279-bfc6-46176374d474",
   "metadata": {},
   "source": [
    "### insert elements into an array"
   ]
  },
  {
   "cell_type": "code",
   "execution_count": 19,
   "id": "5645f4d3-9d6b-4f1a-a1d8-5045a9547f37",
   "metadata": {},
   "outputs": [
    {
     "name": "stdout",
     "output_type": "stream",
     "text": [
      "[100   1   2   3]\n"
     ]
    }
   ],
   "source": [
    "# np.insert(array, position, element)\n",
    "\n",
    "# insert a scalar at a certain position\n",
    "arr3 = np.insert(arr, 0, 100)    \n",
    "print(arr3)"
   ]
  },
  {
   "cell_type": "code",
   "execution_count": 20,
   "id": "e3f1c9a2-69f1-420f-8db3-6ba2f1408b49",
   "metadata": {},
   "outputs": [
    {
     "name": "stdout",
     "output_type": "stream",
     "text": [
      "[1 2 3 1 2 3]\n"
     ]
    }
   ],
   "source": [
    "# insert multiple values at a certain position\n",
    "arr3 = np.insert(arr, 0, [1,2,3])    \n",
    "print(arr3)"
   ]
  },
  {
   "cell_type": "markdown",
   "id": "c0940378-2780-435d-b498-d6f306317a58",
   "metadata": {},
   "source": [
    "### delete elements from an array"
   ]
  },
  {
   "cell_type": "code",
   "execution_count": 21,
   "id": "69af2f69-ce82-435a-89eb-d92aecd0d4ba",
   "metadata": {},
   "outputs": [
    {
     "name": "stdout",
     "output_type": "stream",
     "text": [
      "[2 3]\n"
     ]
    }
   ],
   "source": [
    "# remove the element at position 0\n",
    "arr4 = np.delete(arr, 0)    \n",
    "print(arr4)"
   ]
  },
  {
   "cell_type": "code",
   "execution_count": 22,
   "id": "72fdccef-2fd5-477c-953b-a2d218da515f",
   "metadata": {},
   "outputs": [
    {
     "name": "stdout",
     "output_type": "stream",
     "text": [
      "[2]\n"
     ]
    }
   ],
   "source": [
    "# remove the element at multiple positions\n",
    "arr4 = np.delete(arr, [0,2])    \n",
    "print(arr4)"
   ]
  },
  {
   "cell_type": "markdown",
   "id": "0b551553-6a0b-4ec4-ad41-84a07ee1a138",
   "metadata": {},
   "source": [
    "###  Copy an array"
   ]
  },
  {
   "cell_type": "code",
   "execution_count": 23,
   "id": "423c998b-af7d-4837-b286-de93f093ad0f",
   "metadata": {},
   "outputs": [],
   "source": [
    "arr = np.array([1,2,3])"
   ]
  },
  {
   "cell_type": "code",
   "execution_count": 24,
   "id": "6b0611c3-6b26-4848-8047-00432f7240ba",
   "metadata": {},
   "outputs": [],
   "source": [
    "# the following methods are all deep copy\n",
    "arr1 = np.copy(arr)\n",
    "# or \n",
    "arr1 = arr.copy()\n",
    "# or \n",
    "arr1 = np.array(arr, copy=True)"
   ]
  },
  {
   "cell_type": "code",
   "execution_count": 25,
   "id": "d704cb3d-8875-4d72-ab6f-01371dac581e",
   "metadata": {},
   "outputs": [
    {
     "name": "stdout",
     "output_type": "stream",
     "text": [
      "[1 2 3]\n"
     ]
    }
   ],
   "source": [
    "print(arr1)"
   ]
  },
  {
   "cell_type": "code",
   "execution_count": null,
   "id": "95ffc81e-59b1-4d94-a4e5-c30e13e87575",
   "metadata": {},
   "outputs": [],
   "source": []
  }
 ],
 "metadata": {
  "kernelspec": {
   "display_name": "Python 3 (ipykernel)",
   "language": "python",
   "name": "python3"
  },
  "language_info": {
   "codemirror_mode": {
    "name": "ipython",
    "version": 3
   },
   "file_extension": ".py",
   "mimetype": "text/x-python",
   "name": "python",
   "nbconvert_exporter": "python",
   "pygments_lexer": "ipython3",
   "version": "3.12.0"
  }
 },
 "nbformat": 4,
 "nbformat_minor": 5
}
