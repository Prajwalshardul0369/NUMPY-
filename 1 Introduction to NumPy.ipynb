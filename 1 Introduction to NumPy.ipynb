{
 "cells": [
  {
   "cell_type": "markdown",
   "id": "9cb1290c-4ba1-49a5-8fd3-82bcf7c60322",
   "metadata": {},
   "source": [
    "### Introduction to NumPy"
   ]
  },
  {
   "cell_type": "markdown",
   "id": "de38356f-52e9-4e11-adbd-e63ef4bbeb15",
   "metadata": {},
   "source": [
    "NumPy (numerical Python) is a library that consists of multidimensional array objects and a set of routines for processing them. NumPy allows you to perform mathematical and logical operations on arrays. This tutorial walks you through the fundamentals of NumPy, including its design and architectue. It also covers array features, indexing types, and other topics."
   ]
  },
  {
   "cell_type": "markdown",
   "id": "8d9838e1-ea3b-4369-b7f8-cfb5ad33fca7",
   "metadata": {},
   "source": [
    "#### What is NumPy?¶"
   ]
  },
  {
   "cell_type": "markdown",
   "id": "0fac20ec-76e4-4e53-acb9-947643a49ba1",
   "metadata": {},
   "source": [
    "1. NumPy is a Python module that allows you to interact with arrays. \n",
    "\n",
    "2. It also provides functions for working with matrices, fourier transforms, and linear algebra.\n",
    "\n",
    "3. Travis Oliphant invented NumPy in 2005. It is an open source project that you are free to use.\n",
    "\n",
    "4. Numeric Python is referred to as NumPy."
   ]
  },
  {
   "cell_type": "markdown",
   "id": "cbc33daa-a95c-4265-bca9-7cb2a4aa55f8",
   "metadata": {},
   "source": [
    "#### Why Use NumPy?"
   ]
  },
  {
   "cell_type": "markdown",
   "id": "9e2f7c01-04ea-42f2-824b-0701ce09c0ed",
   "metadata": {},
   "source": [
    "1. We have lists in Python that act as arrays, however they are slow to process.\n",
    "2. NumPy aims to provide an array object that is up to 50 times faster than traditional Python lists.\n",
    "3. The array object in NumPy is called ndarray.\n",
    "4. In data science, when speed and resources are important, arrays are frequently used."
   ]
  },
  {
   "cell_type": "markdown",
   "id": "66a3365f-3840-4d3a-945d-57bfac0e4251",
   "metadata": {},
   "source": [
    "##### Note: Data Science: is a branch of computer science where we study how to store, use and analyze data for deriving information from it."
   ]
  },
  {
   "cell_type": "markdown",
   "id": "d7bd56f7-2d2b-4a73-93e4-3854ccaaee57",
   "metadata": {},
   "source": [
    "#### Which Language is NumPy written in?"
   ]
  },
  {
   "cell_type": "markdown",
   "id": "84995587-c717-4985-ab53-f8ff16176822",
   "metadata": {},
   "source": [
    "NumPy is a Python library that is partially written in Python, but the majority of the elements that require fast computation are written in C or C++."
   ]
  },
  {
   "cell_type": "markdown",
   "id": "ede17f01-ef1d-4d2c-9317-bea89f4b558e",
   "metadata": {},
   "source": [
    "#### Numpy Installation"
   ]
  },
  {
   "cell_type": "code",
   "execution_count": 3,
   "id": "4ca4cd49-3ca2-4b35-85a0-720c085c8e47",
   "metadata": {},
   "outputs": [
    {
     "name": "stdout",
     "output_type": "stream",
     "text": [
      "Requirement already satisfied: numpy in c:\\users\\prajw\\appdata\\local\\programs\\python\\python312\\lib\\site-packages (1.26.4)Note: you may need to restart the kernel to use updated packages.\n",
      "\n"
     ]
    }
   ],
   "source": [
    "pip install numpy"
   ]
  },
  {
   "cell_type": "markdown",
   "id": "4fbb968e-371e-4c87-8355-a0f7ed3f37f5",
   "metadata": {},
   "source": [
    "#### Import NumPy"
   ]
  },
  {
   "cell_type": "code",
   "execution_count": 4,
   "id": "9dc2421f-f838-4868-b930-1381e8683966",
   "metadata": {},
   "outputs": [],
   "source": [
    "import numpy"
   ]
  },
  {
   "cell_type": "markdown",
   "id": "42a8a8d5-5982-4865-97b3-2c5350d41c45",
   "metadata": {},
   "source": [
    "##### NumPy is usually imported under the np alias."
   ]
  }
 ],
 "metadata": {
  "kernelspec": {
   "display_name": "Python 3 (ipykernel)",
   "language": "python",
   "name": "python3"
  },
  "language_info": {
   "codemirror_mode": {
    "name": "ipython",
    "version": 3
   },
   "file_extension": ".py",
   "mimetype": "text/x-python",
   "name": "python",
   "nbconvert_exporter": "python",
   "pygments_lexer": "ipython3",
   "version": "3.12.0"
  }
 },
 "nbformat": 4,
 "nbformat_minor": 5
}
