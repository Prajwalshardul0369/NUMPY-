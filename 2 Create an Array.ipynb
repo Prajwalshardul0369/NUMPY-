{
 "cells": [
  {
   "cell_type": "markdown",
   "id": "d0137f3d-9996-4c52-b003-9822fefc822c",
   "metadata": {},
   "source": [
    "#### Create a NumPy Array"
   ]
  },
  {
   "cell_type": "markdown",
   "id": "700e6bea-d40a-4a78-b322-eb5978239b86",
   "metadata": {},
   "source": [
    "The learning objectives of this section are:\n",
    "\n",
    "* Understand advantages of vectorised code using NumPy (over standard python ways)\n",
    "* Create NumPy arrays\n",
    "* Convert lists and tuples to NumPy arrays\n",
    "* Create (initialise) arrays\n",
    "* Compare computation times in NumPy and standard Python lists"
   ]
  },
  {
   "cell_type": "markdown",
   "id": "d604d418-50ce-40a6-8427-596e947af6de",
   "metadata": {},
   "source": [
    "#### NumPy Basics"
   ]
  },
  {
   "cell_type": "markdown",
   "id": "fba7eb8a-9fce-4e91-a618-00e08c0a4693",
   "metadata": {},
   "source": [
    "NumPy is a library written for scientific computing and data analysis. It stands for numerical python.\n",
    "\n",
    "The most basic object in NumPy is the ndarray, or simply an array, which is an n-dimensional, homogenous array. By homogenous, we mean that all the elements in a NumPy array have to be of the same data type, which is commonly numeric (float or integer)."
   ]
  },
  {
   "cell_type": "markdown",
   "id": "aadf3135-2e2f-4f2e-baf8-6a985b2ef083",
   "metadata": {},
   "source": [
    "#### Create an array From an Iterable"
   ]
  },
  {
   "cell_type": "markdown",
   "id": "b84345f7-e022-4193-a5d7-84787d2a6838",
   "metadata": {},
   "source": [
    "Such as\n",
    "\n",
    "* list\n",
    "* tuple\n",
    "* range iterator"
   ]
  },
  {
   "cell_type": "markdown",
   "id": "4f1adf63-4559-4a74-9d30-a82d63c0f4ef",
   "metadata": {},
   "source": [
    "##### Notice that not all iterables can be used to create a numpy array, such as set and dict"
   ]
  },
  {
   "cell_type": "code",
   "execution_count": 1,
   "id": "e13da2cd-9c60-48b3-8c19-7e124d309beb",
   "metadata": {},
   "outputs": [],
   "source": [
    "#np is simply an alias, you may use any other alias, though np is quite standard\n",
    "import numpy as np"
   ]
  },
  {
   "cell_type": "markdown",
   "id": "6291f5b1-d0e1-48c4-82da-59d48843bd04",
   "metadata": {},
   "source": [
    "#### Create an 1D Array"
   ]
  },
  {
   "cell_type": "code",
   "execution_count": 2,
   "id": "31bc77e7-87d0-4cd1-a267-bb979ad69dea",
   "metadata": {},
   "outputs": [
    {
     "name": "stdout",
     "output_type": "stream",
     "text": [
      "[1 2 3 4 5]\n"
     ]
    }
   ],
   "source": [
    "# Creating a 1-D array using a list\n",
    "arr = np.array([1,2,3,4,5])\n",
    "print(arr)"
   ]
  },
  {
   "cell_type": "code",
   "execution_count": 3,
   "id": "979e6ce4-0654-4212-9a33-6d7fb395f616",
   "metadata": {},
   "outputs": [
    {
     "name": "stdout",
     "output_type": "stream",
     "text": [
      "<class 'numpy.ndarray'>\n"
     ]
    }
   ],
   "source": [
    "print(type(arr))"
   ]
  },
  {
   "cell_type": "code",
   "execution_count": 5,
   "id": "51ed694d-6e82-43eb-b11f-e8a5a347580a",
   "metadata": {},
   "outputs": [
    {
     "name": "stdout",
     "output_type": "stream",
     "text": [
      "[1 2 3 4 5 6]\n"
     ]
    }
   ],
   "source": [
    "# creating a 1-D array using a tuple \n",
    "arr = np.array ((1,2,3,4,5,6,))\n",
    "print(arr)"
   ]
  },
  {
   "cell_type": "code",
   "execution_count": 7,
   "id": "b7560644-c2d3-45bd-9f89-322a02cebfc2",
   "metadata": {},
   "outputs": [
    {
     "name": "stdout",
     "output_type": "stream",
     "text": [
      "[0 1 2 3 4 5 6 7 8 9]\n"
     ]
    }
   ],
   "source": [
    "arr = np.array(range(10))\n",
    "print(arr)"
   ]
  },
  {
   "cell_type": "markdown",
   "id": "9ce53ee4-bea0-4d11-bdbe-238c463d4a3d",
   "metadata": {},
   "source": [
    "#### Create an 2D Array with Specified Data Type"
   ]
  },
  {
   "cell_type": "code",
   "execution_count": 8,
   "id": "7eb70dd8-467a-49f5-a602-c561432ed9d0",
   "metadata": {},
   "outputs": [
    {
     "name": "stdout",
     "output_type": "stream",
     "text": [
      "[[1 2 3]\n",
      " [4 5 6]]\n",
      "Data Type: int32\n"
     ]
    }
   ],
   "source": [
    "arr = np.array([[1,2,3], [4,5,6]], dtype='int')\n",
    "print(arr)\n",
    "print('Data Type:',arr.dtype)"
   ]
  },
  {
   "cell_type": "markdown",
   "id": "43811f2e-0715-4e7b-a7ac-98589a6dbda6",
   "metadata": {},
   "source": [
    "#### Create an 3D Array"
   ]
  },
  {
   "cell_type": "code",
   "execution_count": 12,
   "id": "b3411aba-f986-40b5-9b3f-05a34df2e9b7",
   "metadata": {},
   "outputs": [
    {
     "name": "stdout",
     "output_type": "stream",
     "text": [
      "[[[10 20 30]\n",
      "  [40 50 60]\n",
      "  [70 80 90]]]\n"
     ]
    }
   ],
   "source": [
    "arr = np.array([[[10,20,30],[40,50,60,],[70,80,90]]])\n",
    "print(arr)"
   ]
  },
  {
   "cell_type": "markdown",
   "id": "13534551-cc1a-45c2-acc6-9df25f91c729",
   "metadata": {},
   "source": [
    "#### Create an array within specified range "
   ]
  },
  {
   "cell_type": "markdown",
   "id": "d806741b-e3ad-4849-a2b5-686a97076d71",
   "metadata": {},
   "source": [
    "np.range() Method can be used to replace np.array (range()) method"
   ]
  },
  {
   "cell_type": "code",
   "execution_count": 14,
   "id": "19241dfe-6e3e-477a-a670-b00391540fd1",
   "metadata": {},
   "outputs": [
    {
     "name": "stdout",
     "output_type": "stream",
     "text": [
      "[ 0  2  4  6  8 10 12 14 16 18]\n"
     ]
    }
   ],
   "source": [
    "# np.arrange (start, stop,step)\n",
    "arr =np.arange (0,20,2)\n",
    "print(arr)"
   ]
  },
  {
   "cell_type": "markdown",
   "id": "0806e4d3-8b2f-4a46-84f8-ed18c66708d4",
   "metadata": {},
   "source": [
    "The other common way is to initialise arrays. You do this when you know the size of the array beforehand.step size"
   ]
  },
  {
   "cell_type": "markdown",
   "id": "1079044b-d802-4a50-8798-5831920f8bc3",
   "metadata": {},
   "source": [
    "* np.linspace(): Create array of fixed length\n",
    "* np.random.rand(): method returns values in the range [0,1)\n",
    "* np.ones(): Create array of 1s\n",
    "* np.zeros(): Create array of 0s\n",
    "* np.random.random(): Create array of random numbers\n",
    "* np.arange(): Create array with increments of a fixed step size"
   ]
  },
  {
   "cell_type": "markdown",
   "id": "3704d369-b6ef-4f25-9158-c9ad02c65fc9",
   "metadata": {},
   "source": [
    "#### Create an array of evenly spaced numbers within specified range"
   ]
  },
  {
   "cell_type": "markdown",
   "id": "ec6b6e46-5c79-4754-9685-84cd75f3c875",
   "metadata": {},
   "source": [
    "np.linspace(start, stop, num_of_elements, endpoint=True, retstep=False) has 5 parameters:"
   ]
  },
  {
   "cell_type": "markdown",
   "id": "0df3113a-d643-40d0-aa89-40ace54235ac",
   "metadata": {},
   "source": [
    "* start: start number (inclusive\n",
    "* stop: end number (inclusive unless endpoint set to False)\n",
    "* num_of_elements: number of elements contained in the array\n",
    "* endpoint: boolean value representing whether the stop number is inclusive or not\n",
    "* retstep: boolean value representing whether to return the step size"
   ]
  },
  {
   "cell_type": "code",
   "execution_count": 19,
   "id": "46fc2817-be8e-4679-a02f-37f7c835e26e",
   "metadata": {},
   "outputs": [
    {
     "name": "stdout",
     "output_type": "stream",
     "text": [
      "[0.   0.75 1.5  2.25 3.   3.75 4.5  5.25]\n",
      "The step size is 0.75\n"
     ]
    }
   ],
   "source": [
    "arr, step_size = np.linspace(0, 6, 8, endpoint=False, retstep=True)\n",
    "print(arr)\n",
    "print('The step size is ' + str(step_size))"
   ]
  },
  {
   "cell_type": "markdown",
   "id": "f6267a60-58dd-402a-8900-bbba3850c06a",
   "metadata": {},
   "source": [
    "#### Create an array of random values of given shape"
   ]
  },
  {
   "cell_type": "markdown",
   "id": "8ff82e16-2369-49a1-b421-a4fb9bb7acb0",
   "metadata": {},
   "source": [
    "np.random.rand() method returns values in the range [0,1)"
   ]
  },
  {
   "cell_type": "code",
   "execution_count": 20,
   "id": "e9373eaf-f4d6-4f0c-8863-c6a5e2b9d34c",
   "metadata": {},
   "outputs": [
    {
     "data": {
      "text/plain": [
       "0.7980063209768992"
      ]
     },
     "execution_count": 20,
     "metadata": {},
     "output_type": "execute_result"
    }
   ],
   "source": [
    "np.random.rand()"
   ]
  },
  {
   "cell_type": "code",
   "execution_count": 21,
   "id": "5cc29b79-69e9-4aec-9998-de5808dec51a",
   "metadata": {},
   "outputs": [
    {
     "data": {
      "text/plain": [
       "array([0.97379714, 0.4650916 , 0.10670162, 0.53197029, 0.84667025])"
      ]
     },
     "execution_count": 21,
     "metadata": {},
     "output_type": "execute_result"
    }
   ],
   "source": [
    "np.random.rand(5)"
   ]
  },
  {
   "cell_type": "code",
   "execution_count": 22,
   "id": "6b5a74ca-4ac5-495a-9a66-c533d2993ac8",
   "metadata": {},
   "outputs": [
    {
     "name": "stdout",
     "output_type": "stream",
     "text": [
      "[[0.59668903 0.2637436  0.69507712]\n",
      " [0.80391812 0.21015934 0.8240712 ]\n",
      " [0.09613389 0.84961287 0.55233953]]\n"
     ]
    }
   ],
   "source": [
    "arr = np.random.rand(3, 3)\n",
    "print(arr)"
   ]
  },
  {
   "cell_type": "code",
   "execution_count": 23,
   "id": "a4b881a9-07d7-485b-81db-51f36d34c311",
   "metadata": {},
   "outputs": [
    {
     "data": {
      "text/plain": [
       "array([[0.47432819, 0.03493833],\n",
       "       [0.51708064, 0.78153418],\n",
       "       [0.53081357, 0.18517047],\n",
       "       [0.70510517, 0.56792691],\n",
       "       [0.26743641, 0.59048675],\n",
       "       [0.57872347, 0.71969992],\n",
       "       [0.89673748, 0.14291323],\n",
       "       [0.30273786, 0.44937332],\n",
       "       [0.84412172, 0.09735793],\n",
       "       [0.9832366 , 0.07934179],\n",
       "       [0.23149624, 0.12158291],\n",
       "       [0.57001669, 0.29335752],\n",
       "       [0.68882759, 0.64391716],\n",
       "       [0.07024948, 0.95609832],\n",
       "       [0.05026582, 0.49225277]])"
      ]
     },
     "execution_count": 23,
     "metadata": {},
     "output_type": "execute_result"
    }
   ],
   "source": [
    "np.random.rand(15,2)"
   ]
  },
  {
   "cell_type": "code",
   "execution_count": 28,
   "id": "45a16838-d7d7-4713-9288-d6a12053d163",
   "metadata": {},
   "outputs": [
    {
     "data": {
      "text/plain": [
       "array([[ 6, 37, 14, 58, 29,  6],\n",
       "       [95,  8, 45, 80, 24, 19],\n",
       "       [27, 61, 20, 77, 63, 26],\n",
       "       [24, 21, 95, 10, 82, 23],\n",
       "       [ 2, 37, 76, 95, 42, 35],\n",
       "       [99, 61, 90, 29,  5, 47]])"
      ]
     },
     "execution_count": 28,
     "metadata": {},
     "output_type": "execute_result"
    }
   ],
   "source": [
    "# Create a 4 x 4 random array of integers ranging from 0 to 9\n",
    "np.random.randint(0, 100, (6,6))"
   ]
  },
  {
   "cell_type": "markdown",
   "id": "ac9b25ca-77fb-4ece-811d-479f67c57e34",
   "metadata": {},
   "source": [
    "#### Create an array of zeros of given shape"
   ]
  },
  {
   "cell_type": "markdown",
   "id": "e636809a-010e-4afc-8ffb-b5001dfbad37",
   "metadata": {},
   "source": [
    "* np.zeros(): create array of * all zeros in given shape\n",
    "* np.zeros_like(): create arr* ay of all zeros with the same shape and data type as the given input array"
   ]
  },
  {
   "cell_type": "code",
   "execution_count": 31,
   "id": "e13cf370-3930-4453-95f9-41694aba11c8",
   "metadata": {},
   "outputs": [
    {
     "name": "stdout",
     "output_type": "stream",
     "text": [
      "[[0. 0. 0. 0. 0. 0.]\n",
      " [0. 0. 0. 0. 0. 0.]\n",
      " [0. 0. 0. 0. 0. 0.]]\n"
     ]
    }
   ],
   "source": [
    "zeros = np.zeros((3,6))\n",
    "print(zeros)"
   ]
  },
  {
   "cell_type": "markdown",
   "id": "a2c43291-e7bc-4cb0-82a2-d675450770f7",
   "metadata": {},
   "source": [
    "#### np.zeros_like()"
   ]
  },
  {
   "cell_type": "code",
   "execution_count": 32,
   "id": "bc758d81-aa03-4a56-b493-872bd113b372",
   "metadata": {},
   "outputs": [
    {
     "data": {
      "text/plain": [
       "array([[1, 2],\n",
       "       [3, 4],\n",
       "       [5, 6]])"
      ]
     },
     "execution_count": 32,
     "metadata": {},
     "output_type": "execute_result"
    }
   ],
   "source": [
    "arr = np.array([[1,2], [3,4],[5,6]])\n",
    "arr"
   ]
  },
  {
   "cell_type": "code",
   "execution_count": 33,
   "id": "952c55d5-0578-451b-9126-ac488388c7c3",
   "metadata": {},
   "outputs": [
    {
     "name": "stdout",
     "output_type": "stream",
     "text": [
      "[[0 0]\n",
      " [0 0]\n",
      " [0 0]]\n",
      "Data Type: int32\n"
     ]
    }
   ],
   "source": [
    "zeros = np.zeros_like(arr)\n",
    "print(zeros)\n",
    "print('Data Type:',zeros.dtype)"
   ]
  },
  {
   "cell_type": "markdown",
   "id": "0ef9c91b-6d35-4dda-9819-eb275eefcf91",
   "metadata": {},
   "source": [
    "#### Create an array of ones of given shape"
   ]
  },
  {
   "cell_type": "markdown",
   "id": "8f134ba3-8827-4500-8c8c-43830e99d9ad",
   "metadata": {},
   "source": [
    "* np.ones(): create array of all ones in given shape\r",
    "* \n",
    "np.ones_like(): create array of all ones with the same shape and data type as the given input array"
   ]
  },
  {
   "cell_type": "code",
   "execution_count": 34,
   "id": "2395cfa9-3d61-4cd7-9120-8fe9d2af50d6",
   "metadata": {},
   "outputs": [
    {
     "name": "stdout",
     "output_type": "stream",
     "text": [
      "[[1. 1.]\n",
      " [1. 1.]\n",
      " [1. 1.]]\n"
     ]
    }
   ],
   "source": [
    "ones = np.ones((3,2))\n",
    "print(ones)"
   ]
  },
  {
   "cell_type": "code",
   "execution_count": 35,
   "id": "6c097f77-5a2b-48f8-bd12-81038e45493d",
   "metadata": {},
   "outputs": [
    {
     "name": "stdout",
     "output_type": "stream",
     "text": [
      "[[1 1 1]\n",
      " [1 1 1]]\n",
      "Data Type: int32\n"
     ]
    }
   ],
   "source": [
    "arr = [[1,2,3], [4,5,6]]\n",
    "ones = np.ones_like(arr)\n",
    "print(ones)\n",
    "print('Data Type: ' + str(ones.dtype))"
   ]
  },
  {
   "cell_type": "markdown",
   "id": "716bbb8a-6bec-4a31-9078-dc696baec194",
   "metadata": {},
   "source": [
    "#### Create an empty array of given shape"
   ]
  },
  {
   "cell_type": "markdown",
   "id": "9586b32c-2ea1-4a3b-9325-9a3a9db873ab",
   "metadata": {},
   "source": [
    "* np.empty(): create array of empty values in given shape\r",
    "* \n",
    "np.empty_like(): create array of empty values with the same shape and data type as the given input array"
   ]
  },
  {
   "cell_type": "markdown",
   "id": "20db292d-5504-4430-ac45-addacc933dc9",
   "metadata": {},
   "source": [
    "###### Notice that the initial values are not necessarily set to zeroes"
   ]
  },
  {
   "cell_type": "markdown",
   "id": "c653042b-99ab-4db5-bbbe-d479d6eeb391",
   "metadata": {},
   "source": [
    "They are just some garbage values in random memory addresses."
   ]
  },
  {
   "cell_type": "code",
   "execution_count": 37,
   "id": "d406f26f-19cf-47a8-b3e6-f1c0d4d6af19",
   "metadata": {},
   "outputs": [
    {
     "name": "stdout",
     "output_type": "stream",
     "text": [
      "[[6.23042070e-307 4.67296746e-307 1.69121096e-306 7.56602523e-307\n",
      "  1.89146896e-307]\n",
      " [7.56571288e-307 3.11525958e-307 1.24610723e-306 1.37962320e-306\n",
      "  1.29060871e-306]\n",
      " [2.22518251e-306 1.33511969e-306 1.78022342e-306 1.05700345e-307\n",
      "  3.11525958e-307]\n",
      " [1.69118108e-306 8.06632139e-308 1.20160711e-306 1.69119330e-306\n",
      "  1.29062229e-306]\n",
      " [6.89804133e-307 1.11261162e-306 8.34443015e-308 1.21455192e+224\n",
      "  2.60096946e-306]]\n"
     ]
    }
   ],
   "source": [
    "empty = np.empty((5,5))\n",
    "print(empty)"
   ]
  },
  {
   "cell_type": "code",
   "execution_count": 38,
   "id": "f70995b3-7228-42ca-b88a-5d8f48d0904d",
   "metadata": {},
   "outputs": [
    {
     "name": "stdout",
     "output_type": "stream",
     "text": [
      "[[4607182418800017408 4607182418800017408 4607182418800017408]\n",
      " [4607182418800017408 4607182418800017408 4607182418800017408]]\n",
      "Data Type: int64\n"
     ]
    }
   ],
   "source": [
    "arr = np.array([[1,2,3], [4,5,6]], dtype=np.int64)\n",
    "empty = np.empty_like(arr)\n",
    "print(empty)\n",
    "print('Data Type: ' + str(empty.dtype))"
   ]
  },
  {
   "cell_type": "markdown",
   "id": "e33dd966-2e3f-4c12-97ba-68e38c110ca5",
   "metadata": {},
   "source": [
    "#### Create an array of constant values of given shape"
   ]
  },
  {
   "cell_type": "markdown",
   "id": "36795c0a-8d81-449d-917e-033e9dff6e2c",
   "metadata": {},
   "source": [
    "* np.full(): create array of constant values in given shape\r",
    "* \n",
    "np.full_like(): create array of constant values with the same shape and data type as the given input array"
   ]
  },
  {
   "cell_type": "code",
   "execution_count": 39,
   "id": "a555a0d8-e5ea-4d91-ba2a-d4cb7e04915c",
   "metadata": {},
   "outputs": [
    {
     "name": "stdout",
     "output_type": "stream",
     "text": [
      "[[5 5 5 5]\n",
      " [5 5 5 5]\n",
      " [5 5 5 5]\n",
      " [5 5 5 5]]\n"
     ]
    }
   ],
   "source": [
    "full = np.full((4,4), 5)\n",
    "print(full)"
   ]
  },
  {
   "cell_type": "code",
   "execution_count": 40,
   "id": "e52d74c0-9c64-43a3-93f8-b5e34a3dd5e9",
   "metadata": {},
   "outputs": [
    {
     "name": "stdout",
     "output_type": "stream",
     "text": [
      "[[5. 5.]\n",
      " [5. 5.]]\n",
      "Data Type: float64\n"
     ]
    }
   ],
   "source": [
    "arr = np.array([[1,2], [3,4]], dtype=np.float64)\n",
    "full = np.full_like(arr, 5)\n",
    "print(full)\n",
    "print('Data Type: ' + str(full.dtype))"
   ]
  },
  {
   "cell_type": "markdown",
   "id": "9eea822a-9009-4c37-961c-8f1d82c70c2c",
   "metadata": {},
   "source": [
    "#### Create an array in a repetitive manner"
   ]
  },
  {
   "cell_type": "markdown",
   "id": "0843c5f5-e38f-4938-83bc-2901d9c7f8c4",
   "metadata": {},
   "source": [
    "* np.repeat(iterable, reps, axis=None): repeat each element by n times\n",
    "* iterable : input array\r",
    "* \n",
    "rep s: number of repetition\n",
    "* axis : which axis to repeat along, default is None which will flatten     the input array and then repeat\n",
    "* np.tile() : repeat the whole array by n times\n",
    "* iterable : input array\n",
    "* reps : number of repetitions, it can be a tuple to represent repetitions along x-axis and y-axis\n",
    "\n",
    "s-axis"
   ]
  },
  {
   "cell_type": "code",
   "execution_count": 41,
   "id": "5b32ea4a-b8a6-423b-8190-c4bb85bf41de",
   "metadata": {},
   "outputs": [
    {
     "name": "stdout",
     "output_type": "stream",
     "text": [
      "[0 0 0 1 1 1 2 2 2 3 3 3 4 4 4 5 5 5]\n"
     ]
    }
   ],
   "source": [
    "# No axis specified, then flatten the input array first and repeat\n",
    "arr = [[0, 1, 2], [3, 4, 5]]\n",
    "print(np.repeat(arr, 3)) "
   ]
  },
  {
   "cell_type": "code",
   "execution_count": 42,
   "id": "6d8b2907-f000-4f2b-aa7f-db0cd3a1b9c2",
   "metadata": {},
   "outputs": [
    {
     "name": "stdout",
     "output_type": "stream",
     "text": [
      "[[0 1 2]\n",
      " [0 1 2]\n",
      " [0 1 2]\n",
      " [3 4 5]\n",
      " [3 4 5]\n",
      " [3 4 5]]\n"
     ]
    }
   ],
   "source": [
    "# An example of repeating along x-axis\n",
    "arr = [[0, 1, 2], [3, 4, 5]]\n",
    "print(np.repeat(arr, 3, axis=0)) "
   ]
  },
  {
   "cell_type": "code",
   "execution_count": 43,
   "id": "b2ac6ed3-f642-48fd-808d-6f85e8bf355f",
   "metadata": {},
   "outputs": [
    {
     "name": "stdout",
     "output_type": "stream",
     "text": [
      "[[0 0 0 1 1 1 2 2 2]\n",
      " [3 3 3 4 4 4 5 5 5]]\n"
     ]
    }
   ],
   "source": [
    "# An example of repeating along y-axis\n",
    "arr = [[0, 1, 2], [3, 4, 5]]\n",
    "print(np.repeat(arr, 3, axis=1)) "
   ]
  },
  {
   "cell_type": "code",
   "execution_count": 44,
   "id": "1c9a137f-8298-417d-9727-5016df3fd4bd",
   "metadata": {},
   "outputs": [
    {
     "name": "stdout",
     "output_type": "stream",
     "text": [
      "[0 1 2 0 1 2 0 1 2]\n"
     ]
    }
   ],
   "source": [
    "# Repeat the whole array by a specified number of times\n",
    "arr = [0, 1, 2]\n",
    "print(np.tile(arr, 3))"
   ]
  },
  {
   "cell_type": "markdown",
   "id": "cd9e0a9d-398c-4f1a-b4d6-41ad55883b5c",
   "metadata": {},
   "source": [
    "#### Create an identity matrix of given size"
   ]
  },
  {
   "cell_type": "markdown",
   "id": "53ef88ec-f0df-473c-a8cb-196b71c7f5c4",
   "metadata": {},
   "source": [
    "* np.eye(size, k=0): create an identity matrix of given size\n",
    "* size: the size of the identity matrix\n",
    "* k: the diagonal offset\n",
    "* np.identity(): same as np.eye() but does not carry parameters "
   ]
  },
  {
   "cell_type": "code",
   "execution_count": 45,
   "id": "54d03087-75ff-4ee4-84af-be67d58999a4",
   "metadata": {},
   "outputs": [
    {
     "name": "stdout",
     "output_type": "stream",
     "text": [
      "[[1. 0. 0. 0. 0.]\n",
      " [0. 1. 0. 0. 0.]\n",
      " [0. 0. 1. 0. 0.]\n",
      " [0. 0. 0. 1. 0.]\n",
      " [0. 0. 0. 0. 1.]]\n"
     ]
    }
   ],
   "source": [
    "identity_matrix = np.eye(5)\n",
    "print(identity_matrix)"
   ]
  },
  {
   "cell_type": "code",
   "execution_count": 46,
   "id": "00c7cb6e-38e0-45a1-aa96-ef7c10d82c24",
   "metadata": {},
   "outputs": [
    {
     "name": "stdout",
     "output_type": "stream",
     "text": [
      "[[0. 0. 0. 0. 0.]\n",
      " [1. 0. 0. 0. 0.]\n",
      " [0. 1. 0. 0. 0.]\n",
      " [0. 0. 1. 0. 0.]\n",
      " [0. 0. 0. 1. 0.]]\n"
     ]
    }
   ],
   "source": [
    "# An example of diagonal offset\n",
    "identity_matrix = np.eye(5, k=-1)\n",
    "print(identity_matrix)"
   ]
  },
  {
   "cell_type": "code",
   "execution_count": 47,
   "id": "931687a9-c1f6-47d8-8ccb-ab37810306b2",
   "metadata": {},
   "outputs": [
    {
     "name": "stdout",
     "output_type": "stream",
     "text": [
      "[[1. 0. 0. 0. 0.]\n",
      " [0. 1. 0. 0. 0.]\n",
      " [0. 0. 1. 0. 0.]\n",
      " [0. 0. 0. 1. 0.]\n",
      " [0. 0. 0. 0. 1.]]\n"
     ]
    }
   ],
   "source": [
    "identity_matrix = np.identity(5)\n",
    "print(identity_matrix)"
   ]
  },
  {
   "cell_type": "markdown",
   "id": "236a0bc4-d2ee-467d-b782-51c826611aae",
   "metadata": {},
   "source": [
    "#### Create an array with given values on the diagonal"
   ]
  },
  {
   "cell_type": "code",
   "execution_count": 48,
   "id": "98017f48-1133-49d5-9d1a-0e059313ba69",
   "metadata": {},
   "outputs": [
    {
     "name": "stdout",
     "output_type": "stream",
     "text": [
      "[[5.16822629e-01 8.95974314e-01 7.21202651e-01 2.75529747e-01\n",
      "  7.82153719e-02]\n",
      " [4.81838168e-02 2.17003054e-01 7.01686260e-01 4.76870005e-01\n",
      "  3.18563656e-01]\n",
      " [7.10796062e-01 3.77714762e-01 4.05257463e-01 4.19794811e-01\n",
      "  2.66053776e-02]\n",
      " [7.23013204e-03 6.14656050e-01 4.60208701e-01 7.03166672e-01\n",
      "  9.96073960e-01]\n",
      " [4.99330543e-01 6.51195336e-02 3.62483456e-04 3.37277644e-01\n",
      "  7.63109066e-02]]\n",
      "Values on the diagonal: [0.51682263 0.21700305 0.40525746 0.70316667 0.07631091]\n"
     ]
    }
   ],
   "source": [
    "arr = np.random.rand(5,5)\n",
    "print(arr)\n",
    "# Extract values on the diagonal\n",
    "print('Values on the diagonal: ' + str(np.diag(arr)))"
   ]
  },
  {
   "cell_type": "code",
   "execution_count": 49,
   "id": "577055b9-da32-429b-b131-b49c96f603bf",
   "metadata": {},
   "outputs": [
    {
     "name": "stdout",
     "output_type": "stream",
     "text": [
      "[[0.99465956 0.04359471 0.00763805]\n",
      " [0.11128546 0.74634723 0.44942451]\n",
      " [0.37875401 0.86063987 0.17669601]\n",
      " [0.81718445 0.30752509 0.63574323]\n",
      " [0.86987206 0.29897514 0.28731267]\n",
      " [0.93122497 0.53259548 0.02886934]\n",
      " [0.75645431 0.79775767 0.05501871]\n",
      " [0.31005841 0.00733608 0.70875873]\n",
      " [0.95168744 0.60619972 0.86505849]\n",
      " [0.67113836 0.32897051 0.91949991]]\n",
      "Values on the diagonal: [0.99465956 0.74634723 0.17669601]\n"
     ]
    }
   ],
   "source": [
    "# Not necessarily to be a square matrix\n",
    "arr = np.random.rand(10,3)\n",
    "print(arr)\n",
    "# Extract values on the diagonal\n",
    "print('Values on the diagonal: ' + str(np.diag(arr)))"
   ]
  },
  {
   "cell_type": "code",
   "execution_count": 50,
   "id": "b69a3778-3f41-4345-a131-dc1d90a0a6ea",
   "metadata": {},
   "outputs": [
    {
     "name": "stdout",
     "output_type": "stream",
     "text": [
      "[[1 0 0 0 0]\n",
      " [0 2 0 0 0]\n",
      " [0 0 3 0 0]\n",
      " [0 0 0 4 0]\n",
      " [0 0 0 0 5]]\n"
     ]
    }
   ],
   "source": [
    "# Create a matrix given values on the diagonal\n",
    "# All non-diagonal values set to zeros\n",
    "arr = np.diag([1,2,3,4,5])\n",
    "print(arr)"
   ]
  },
  {
   "cell_type": "markdown",
   "id": "45f3796a-09d6-440f-a685-907403ab2845",
   "metadata": {},
   "source": [
    "#### Advantages of NumPy"
   ]
  },
  {
   "cell_type": "markdown",
   "id": "ab60e798-81b8-40da-a2b5-268e26e8e787",
   "metadata": {},
   "source": [
    "What is the use of arrays over lists, specifically for data analysis? Putting crudely, it is convenience and speed :"
   ]
  },
  {
   "cell_type": "markdown",
   "id": "a5e7a9cc-b7e0-48da-98f3-12b6ee9c3dbd",
   "metadata": {},
   "source": [
    "1. You can write vectorised code on numpy arrays, not on lists, which is convenient to read and write, and concise.\n",
    "2. Numpy is much faster than the standard python ways to do computations."
   ]
  },
  {
   "cell_type": "markdown",
   "id": "e27a4451-09be-45c5-84a7-79bece54749c",
   "metadata": {},
   "source": [
    "Vectorised code typically does not contain explicit looping and indexing etc. (all of this happens behind the scenes, in precompiled C-code), and thus it is much more concise."
   ]
  },
  {
   "cell_type": "markdown",
   "id": "2eb7e313-41e3-463f-b39f-6ac89ceb3955",
   "metadata": {},
   "source": [
    "Let's see an example of convenience, we'll see one later for speed."
   ]
  },
  {
   "cell_type": "markdown",
   "id": "273e345e-2227-4aaa-abcd-349a897a160d",
   "metadata": {},
   "source": [
    "Say you have two lists of numbers, and want to calculate the element-wise product. The standard python list way would need you to map a lambda function (or worse - write a for loop), whereas with NumPy, you simply multiply the arrays."
   ]
  },
  {
   "cell_type": "code",
   "execution_count": 51,
   "id": "c94887bf-7503-4b55-9231-df4fa9738798",
   "metadata": {},
   "outputs": [
    {
     "name": "stdout",
     "output_type": "stream",
     "text": [
      "[12, 30, 7, 35]\n"
     ]
    }
   ],
   "source": [
    "list_1 = [3, 6, 7, 5]\n",
    "list_2 = [4, 5, 1, 7]\n",
    "\n",
    "# the list way to do it: map a function to the two lists\n",
    "product_list = list(map(lambda x, y: x*y, list_1, list_2))\n",
    "print(product_list)"
   ]
  },
  {
   "cell_type": "markdown",
   "id": "5954570b-bd46-41f8-8e5e-f9daac712709",
   "metadata": {},
   "source": [
    "#### using array"
   ]
  },
  {
   "cell_type": "code",
   "execution_count": 52,
   "id": "861363d6-352d-4a1c-8e78-f043ee9bcdd0",
   "metadata": {},
   "outputs": [
    {
     "name": "stdout",
     "output_type": "stream",
     "text": [
      "[12 30  7 35]\n",
      "<class 'numpy.ndarray'>\n"
     ]
    }
   ],
   "source": [
    "# The numpy array way to do it: simply multiply the two arrays\n",
    "array_1 = np.array(list_1)\n",
    "array_2 = np.array(list_2)\n",
    "\n",
    "array_3 = array_1*array_2\n",
    "print(array_3)\n",
    "print(type(array_3))"
   ]
  },
  {
   "cell_type": "markdown",
   "id": "cc4e9b2d-9ca9-4ea3-adc0-7d9b6a83f654",
   "metadata": {},
   "source": [
    "As you can see, the NumPy way is clearly more concise.\r\n",
    "\r\n",
    "Even simple mathematical operations on lists require for loops, unlike with arrays. For example, to calculate the square of every number in a list:"
   ]
  },
  {
   "cell_type": "code",
   "execution_count": 53,
   "id": "40871cad-049f-4bc6-9670-b0ad94a484ae",
   "metadata": {},
   "outputs": [
    {
     "name": "stdout",
     "output_type": "stream",
     "text": [
      "[9, 36, 49, 25]\n",
      "[ 9 36 49 25]\n"
     ]
    }
   ],
   "source": [
    "# Square a list\n",
    "list_squared = [i**2 for i in list_1]\n",
    "\n",
    "# Square a numpy array\n",
    "array_squared = array_1**2\n",
    "\n",
    "print(list_squared)\n",
    "print(array_squared)"
   ]
  },
  {
   "cell_type": "markdown",
   "id": "3df6e6d4-0ead-43ea-b1b8-266f0856ea3d",
   "metadata": {},
   "source": [
    "#### Compare Computation Times in NumPy and Standard Python Lists"
   ]
  },
  {
   "cell_type": "markdown",
   "id": "5120b4d6-f0f0-4975-b8e7-2a4210339c0b",
   "metadata": {},
   "source": [
    "We mentioned that the key advantages of numpy are convenience and speed of computation.\n",
    "\n",
    "You'll often work with extremely large datasets, and thus it is important point for you to understand how much computation time (and memory) you can save using numpy, compared to standard python lists.\n",
    "\n",
    "Let's compare the computation times of arrays and lists for a simple task of calculating the element-wise product of numbers"
   ]
  },
  {
   "cell_type": "code",
   "execution_count": 56,
   "id": "44afe4b2-41bd-4948-bd60-979fb2e62325",
   "metadata": {},
   "outputs": [
    {
     "name": "stdout",
     "output_type": "stream",
     "text": [
      "Time Taken: 1.2387065887451172\n"
     ]
    }
   ],
   "source": [
    "list_1 = [i for i in range(10000000)]\n",
    "list_2 = [j**2 for j in range(10000000)]\n",
    "\n",
    "import time\n",
    "# store start time, time after computation, and take the difference\n",
    "t0 = time.time()\n",
    "product_list = list(map(lambda x, y: x*y, list_1, list_2))\n",
    "t1 = time.time()\n",
    "list_time = t1 - t0 \n",
    "print(\"Time Taken:\",t1-t0)"
   ]
  },
  {
   "cell_type": "markdown",
   "id": "a7be95db-33a7-4cda-beff-c8dc941f0ae4",
   "metadata": {},
   "source": [
    "#### Using numpy array"
   ]
  },
  {
   "cell_type": "code",
   "execution_count": 57,
   "id": "2a2827c6-6f9d-4b4e-9cb1-f7575fb6ecb6",
   "metadata": {},
   "outputs": [
    {
     "name": "stdout",
     "output_type": "stream",
     "text": [
      "Time Taken: 0.05288529396057129\n"
     ]
    }
   ],
   "source": [
    "array_1 = np.array(list_1)\n",
    "array_2 = np.array(list_2)\n",
    "\n",
    "t0 = time.time()\n",
    "array_3 = array_1*array_2\n",
    "t1 = time.time()\n",
    "numpy_time = t1 - t0\n",
    "\n",
    "print(\"Time Taken:\",t1-t0)"
   ]
  },
  {
   "cell_type": "code",
   "execution_count": 58,
   "id": "5add156a-057f-40cc-bc66-280ad9dbd683",
   "metadata": {},
   "outputs": [
    {
     "name": "stdout",
     "output_type": "stream",
     "text": [
      "The ratio of time taken is 23.422514956022308\n"
     ]
    }
   ],
   "source": [
    "print(\"The ratio of time taken is {}\".format(list_time/numpy_time))"
   ]
  },
  {
   "cell_type": "markdown",
   "id": "ab0a0efa-f35d-4f2d-aa52-2e006a64f8f4",
   "metadata": {},
   "source": [
    "In this case, numpy is an order of magnitude faster than lists. This is with arrays of size in millions, but you may work on much larger arrays of sizes in order of billions. Then, the difference is even larger.\n",
    "\n",
    "Some reasons for such difference in speed are:"
   ]
  },
  {
   "cell_type": "markdown",
   "id": "979576ea-b56d-4d4a-8185-6e3cef338652",
   "metadata": {},
   "source": [
    "* NumPy is written in C, which is basically being executed behind the scenes\r",
    "* \n",
    "NumPy arrays are more compact than lists, i.e. they take much lesser storage space than lists"
   ]
  },
  {
   "cell_type": "code",
   "execution_count": null,
   "id": "6d278b3f-714f-4c62-a0f1-bb3b293a14bb",
   "metadata": {},
   "outputs": [],
   "source": []
  }
 ],
 "metadata": {
  "kernelspec": {
   "display_name": "Python 3 (ipykernel)",
   "language": "python",
   "name": "python3"
  },
  "language_info": {
   "codemirror_mode": {
    "name": "ipython",
    "version": 3
   },
   "file_extension": ".py",
   "mimetype": "text/x-python",
   "name": "python",
   "nbconvert_exporter": "python",
   "pygments_lexer": "ipython3",
   "version": "3.12.0"
  }
 },
 "nbformat": 4,
 "nbformat_minor": 5
}
