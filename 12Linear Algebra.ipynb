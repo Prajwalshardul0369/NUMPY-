{
 "cells": [
  {
   "cell_type": "markdown",
   "id": "21d86eb0-ef02-48ba-b927-f0d515492375",
   "metadata": {},
   "source": [
    "## Linear Algebra"
   ]
  },
  {
   "cell_type": "code",
   "execution_count": 1,
   "id": "02940e25-9d69-42e5-b476-9ac45d3acfe4",
   "metadata": {},
   "outputs": [],
   "source": [
    "import numpy as np "
   ]
  },
  {
   "cell_type": "code",
   "execution_count": 2,
   "id": "8f9a9113-fd21-4d5e-be1f-cc28f5c83573",
   "metadata": {},
   "outputs": [],
   "source": [
    "arr1 = np.random.rand(3,3)\n",
    "arr2 =np.random.rand(3,3)"
   ]
  },
  {
   "cell_type": "markdown",
   "id": "82f8c998-bc58-4472-9308-f9c0de156979",
   "metadata": {},
   "source": [
    "### Matrix Manipulation "
   ]
  },
  {
   "cell_type": "code",
   "execution_count": 3,
   "id": "1db698d8-a431-4cc2-9a33-6f3bb3c8bd56",
   "metadata": {},
   "outputs": [
    {
     "name": "stdout",
     "output_type": "stream",
     "text": [
      "[[0.76244631 0.2772252  1.31851297]\n",
      " [0.8750923  0.25808667 1.62465615]\n",
      " [0.51969502 0.14479401 1.04960276]]\n"
     ]
    }
   ],
   "source": [
    "print(arr1.dot(arr2))"
   ]
  },
  {
   "cell_type": "markdown",
   "id": "828cc576-7b6f-45a2-baaf-51eb59ff578c",
   "metadata": {},
   "source": [
    "###  OR"
   ]
  },
  {
   "cell_type": "code",
   "execution_count": 4,
   "id": "98486fac-e736-4686-95b0-e5b96e43e0b2",
   "metadata": {},
   "outputs": [
    {
     "name": "stdout",
     "output_type": "stream",
     "text": [
      "[[0.76244631 0.2772252  1.31851297]\n",
      " [0.8750923  0.25808667 1.62465615]\n",
      " [0.51969502 0.14479401 1.04960276]]\n"
     ]
    }
   ],
   "source": [
    "print(np.dot(arr1, arr2))"
   ]
  },
  {
   "cell_type": "markdown",
   "id": "f11f401e-77bd-4570-8f92-616af5223467",
   "metadata": {},
   "source": [
    "### OR"
   ]
  },
  {
   "cell_type": "code",
   "execution_count": 5,
   "id": "4f4df879-af89-4c3b-b3bb-33da0c7a1990",
   "metadata": {},
   "outputs": [
    {
     "name": "stdout",
     "output_type": "stream",
     "text": [
      "[[0.76244631 0.2772252  1.31851297]\n",
      " [0.8750923  0.25808667 1.62465615]\n",
      " [0.51969502 0.14479401 1.04960276]]\n"
     ]
    }
   ],
   "source": [
    "print(arr1 @ arr2)"
   ]
  },
  {
   "cell_type": "markdown",
   "id": "f1430fc7-a95e-4fae-a335-e6789d9484fb",
   "metadata": {},
   "source": [
    "### OR Factorization"
   ]
  },
  {
   "cell_type": "code",
   "execution_count": 6,
   "id": "dd4e645c-f1c3-4a25-9ef7-1a487db468e1",
   "metadata": {},
   "outputs": [
    {
     "name": "stdout",
     "output_type": "stream",
     "text": [
      "[[-0.63943457  0.33839903  0.15394527 -0.11448869 -0.66317623]\n",
      " [-0.14164611 -0.25944633  0.78596075  0.53478503  0.09431149]\n",
      " [-0.31996413 -0.65802319 -0.51534999  0.39123159 -0.21443104]\n",
      " [-0.35965923 -0.50296396  0.21895856 -0.70746653  0.26309836]\n",
      " [-0.58251867  0.36360203 -0.21222181  0.21754599  0.6603796 ]]\n",
      "[[-1.35004023 -0.98745485 -0.77015147 -0.8516757  -1.37400062]\n",
      " [ 0.         -0.8178145  -0.18480623 -0.5292694  -0.68623609]\n",
      " [ 0.          0.          0.51380566  0.30780587  0.39248225]\n",
      " [ 0.          0.          0.          0.54002874  0.33190438]\n",
      " [ 0.          0.          0.          0.         -0.43650458]]\n"
     ]
    }
   ],
   "source": [
    "arr = np.random.rand(5,5)\n",
    "\n",
    "q, r = np.linalg.qr(arr)\n",
    "print(q)\n",
    "print(r)"
   ]
  },
  {
   "cell_type": "markdown",
   "id": "92d53e7a-0d69-491a-973e-110a3238de99",
   "metadata": {},
   "source": [
    "### singular value decomposition (SVD)"
   ]
  },
  {
   "cell_type": "code",
   "execution_count": 7,
   "id": "560c45c3-6d67-4d25-854c-fdfaca138456",
   "metadata": {},
   "outputs": [
    {
     "name": "stdout",
     "output_type": "stream",
     "text": [
      "[[-0.47204786 -0.08957546  0.22991423  0.83293341 -0.1500281 ]\n",
      " [-0.36085178  0.28936485  0.70787136 -0.28779678  0.44960553]\n",
      " [-0.55525265 -0.3605923   0.04290529 -0.47014084 -0.58206049]\n",
      " [-0.29642236  0.85203428 -0.35021501 -0.02486676 -0.25080365]\n",
      " [-0.50078448 -0.22859354 -0.56706805 -0.04176336  0.6112688 ]]\n",
      "[2.52787887 0.97151933 0.83458575 0.21092729 0.12923248]\n",
      "[[-0.38292994 -0.40832098 -0.5493482  -0.28761347 -0.54966688]\n",
      " [ 0.72461514 -0.06142574 -0.51453348  0.42284064 -0.16619527]\n",
      " [-0.28960636 -0.62684232 -0.11439148  0.4754998   0.53292719]\n",
      " [-0.32589807  0.17269358  0.27364288  0.70324809 -0.54270532]\n",
      " [-0.37177434  0.63776679 -0.58779759  0.13351533  0.30282833]]\n"
     ]
    }
   ],
   "source": [
    "arr = np.random.rand(5,5)\n",
    "\n",
    "u, s, v = np.linalg.svd(arr)\n",
    "print(u)\n",
    "print(s)\n",
    "print(v)"
   ]
  },
  {
   "cell_type": "markdown",
   "id": "2ef646af-ea29-4b51-95b0-6037cd2e502a",
   "metadata": {},
   "source": [
    "### compute eigen values"
   ]
  },
  {
   "cell_type": "code",
   "execution_count": 8,
   "id": "ed0ff783-e5de-4059-b055-94eb9cff207b",
   "metadata": {},
   "outputs": [
    {
     "name": "stdout",
     "output_type": "stream",
     "text": [
      "[ 2.07977404+0.j         -0.20572099+0.54769379j -0.20572099-0.54769379j\n",
      "  0.52903864+0.j          0.35269044+0.j        ]\n"
     ]
    }
   ],
   "source": [
    "arr = np.random.rand(5,5)\n",
    "print(np.linalg.eigvals(arr))"
   ]
  },
  {
   "cell_type": "markdown",
   "id": "d3000e7c-4f5a-4ae9-811d-dfcb1adf9a5c",
   "metadata": {},
   "source": [
    "### eigen value decomposition"
   ]
  },
  {
   "cell_type": "code",
   "execution_count": 9,
   "id": "d3419d55-f7dc-4625-b3d7-680851befa53",
   "metadata": {},
   "outputs": [
    {
     "name": "stdout",
     "output_type": "stream",
     "text": [
      "[ 2.70061654+0.j          0.12339239+0.34946336j  0.12339239-0.34946336j\n",
      " -0.30694254+0.j          0.15764713+0.j        ]\n",
      "[[ 0.33290813+0.j          0.40540657-0.43840899j  0.40540657+0.43840899j\n",
      "   0.45419034+0.j          0.07502477+0.j        ]\n",
      " [ 0.41931637+0.j          0.01944696+0.18628099j  0.01944696-0.18628099j\n",
      "  -0.35838926+0.j          0.64562957+0.j        ]\n",
      " [ 0.37597852+0.j         -0.69892059+0.j         -0.69892059-0.j\n",
      "  -0.53523442+0.j         -0.14771502+0.j        ]\n",
      " [ 0.53239847+0.j          0.29321414+0.03269194j  0.29321414-0.03269194j\n",
      "  -0.19545109+0.j         -0.72715098+0.j        ]\n",
      " [ 0.53715732+0.j         -0.18117029+0.0028856j  -0.18117029-0.0028856j\n",
      "   0.58360198+0.j         -0.16421163+0.j        ]]\n"
     ]
    }
   ],
   "source": [
    "arr = np.random.rand(5,5)\n",
    "\n",
    "w, v = np.linalg.eig(arr)\n",
    "print(w)    # eigen values\n",
    "print(v)    # eigen vectors"
   ]
  },
  {
   "cell_type": "markdown",
   "id": "cf50345f-8f4b-426b-bd73-01442087acca",
   "metadata": {},
   "source": [
    "### compute the trace & determinant"
   ]
  },
  {
   "cell_type": "code",
   "execution_count": 10,
   "id": "525c7c20-eb8f-47d0-97cf-a45fc55724d2",
   "metadata": {},
   "outputs": [
    {
     "name": "stdout",
     "output_type": "stream",
     "text": [
      "2.7981059063575673\n"
     ]
    }
   ],
   "source": [
    "# notice this is not a function in linalg!!!\n",
    "print(np.trace(arr))  "
   ]
  },
  {
   "cell_type": "code",
   "execution_count": 11,
   "id": "9cd038fe-22f0-47f4-8286-d8ef8a9113b7",
   "metadata": {},
   "outputs": [
    {
     "name": "stdout",
     "output_type": "stream",
     "text": [
      "-0.017948812956348717\n"
     ]
    }
   ],
   "source": [
    "print(np.linalg.det(arr))"
   ]
  },
  {
   "cell_type": "markdown",
   "id": "619b81d4-8d2b-4a2b-b1bc-c8d767eaf86b",
   "metadata": {},
   "source": [
    "### calculate the inverse/psedo-inverse of a matrix"
   ]
  },
  {
   "cell_type": "code",
   "execution_count": 12,
   "id": "3a1cfc20-e5a7-4edb-84bc-ce3ca50e66e6",
   "metadata": {},
   "outputs": [],
   "source": [
    "arr = np.random.rand(3,3)"
   ]
  },
  {
   "cell_type": "code",
   "execution_count": 13,
   "id": "e39eec12-b7be-4bec-9c22-b63dc8c5ec01",
   "metadata": {},
   "outputs": [
    {
     "name": "stdout",
     "output_type": "stream",
     "text": [
      "[[ 0.29987423 -2.63760448  2.75814044]\n",
      " [-0.47608023  1.80172135 -0.36850776]\n",
      " [ 1.38005284  0.99602521 -1.77753521]]\n"
     ]
    }
   ],
   "source": [
    "# compute the inverse of a matrix\n",
    "print(np.linalg.inv(arr))"
   ]
  },
  {
   "cell_type": "code",
   "execution_count": 14,
   "id": "b238e13e-d5e5-4f43-8006-817a50d19ebc",
   "metadata": {},
   "outputs": [
    {
     "name": "stdout",
     "output_type": "stream",
     "text": [
      "[[ 0.29987423 -2.63760448  2.75814044]\n",
      " [-0.47608023  1.80172135 -0.36850776]\n",
      " [ 1.38005284  0.99602521 -1.77753521]]\n"
     ]
    }
   ],
   "source": [
    "# compute the psudo-inverse of a matrix\n",
    "print(np.linalg.pinv(arr))"
   ]
  },
  {
   "cell_type": "markdown",
   "id": "9c02bd7c-30ff-4ce2-bc31-9a84c2261a67",
   "metadata": {},
   "source": [
    "### solve a linear system"
   ]
  },
  {
   "cell_type": "code",
   "execution_count": 15,
   "id": "5707c48c-b803-440b-9b4d-d33b99d4e7e1",
   "metadata": {},
   "outputs": [
    {
     "name": "stdout",
     "output_type": "stream",
     "text": [
      "[ 3.2990866   2.02183919 -1.96050238]\n"
     ]
    }
   ],
   "source": [
    "# solve a linear system in closed form\n",
    "y = [1,2,3]\n",
    "print(np.linalg.solve(arr, y))"
   ]
  },
  {
   "cell_type": "code",
   "execution_count": 16,
   "id": "f3310f84-b099-4d01-8324-b095695a6f36",
   "metadata": {},
   "outputs": [
    {
     "name": "stdout",
     "output_type": "stream",
     "text": [
      "[ 3.2990866   2.02183919 -1.96050238]\n",
      "[]\n",
      "3\n",
      "[1.46497275 0.57192566 0.21928568]\n"
     ]
    }
   ],
   "source": [
    "# calculate the least-squares solution of a linear system\n",
    "y = [1,2,3]\n",
    "solution, residuals, rank, singular = np.linalg.lstsq(arr, y,rcond=-1)\n",
    "print(solution)\n",
    "print(residuals)\n",
    "print(rank)\n",
    "print(singular)"
   ]
  },
  {
   "cell_type": "code",
   "execution_count": null,
   "id": "4ecf5cd0-8a7f-4e97-afa5-7b5b5cb8ef29",
   "metadata": {},
   "outputs": [],
   "source": []
  },
  {
   "cell_type": "code",
   "execution_count": null,
   "id": "ade5cc18-8143-4503-805c-bd118694bb04",
   "metadata": {},
   "outputs": [],
   "source": []
  },
  {
   "cell_type": "code",
   "execution_count": null,
   "id": "e6fb1e6b-ac60-4f93-902b-2a1246c8b86d",
   "metadata": {},
   "outputs": [],
   "source": []
  }
 ],
 "metadata": {
  "kernelspec": {
   "display_name": "Python 3 (ipykernel)",
   "language": "python",
   "name": "python3"
  },
  "language_info": {
   "codemirror_mode": {
    "name": "ipython",
    "version": 3
   },
   "file_extension": ".py",
   "mimetype": "text/x-python",
   "name": "python",
   "nbconvert_exporter": "python",
   "pygments_lexer": "ipython3",
   "version": "3.12.0"
  }
 },
 "nbformat": 4,
 "nbformat_minor": 5
}
